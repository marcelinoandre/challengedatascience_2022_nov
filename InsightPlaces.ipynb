{
 "cells": [
  {
   "cell_type": "markdown",
   "metadata": {},
   "source": [
    "# InsightPlaces"
   ]
  },
  {
   "cell_type": "markdown",
   "metadata": {},
   "source": [
    "## Imports e carregamento dos Dados"
   ]
  },
  {
   "cell_type": "code",
   "execution_count": 17,
   "metadata": {},
   "outputs": [],
   "source": [
    "from pyspark.sql import SparkSession, functions as F\n",
    "import utils"
   ]
  },
  {
   "cell_type": "code",
   "execution_count": 11,
   "metadata": {},
   "outputs": [
    {
     "data": {
      "text/html": [
       "\n",
       "            <div>\n",
       "                <p><b>SparkSession - in-memory</b></p>\n",
       "                \n",
       "        <div>\n",
       "            <p><b>SparkContext</b></p>\n",
       "\n",
       "            <p><a href=\"http://192.168.0.23:4040\">Spark UI</a></p>\n",
       "\n",
       "            <dl>\n",
       "              <dt>Version</dt>\n",
       "                <dd><code>v3.3.1</code></dd>\n",
       "              <dt>Master</dt>\n",
       "                <dd><code>local[*]</code></dd>\n",
       "              <dt>AppName</dt>\n",
       "                <dd><code>InsightPlaces</code></dd>\n",
       "            </dl>\n",
       "        </div>\n",
       "        \n",
       "            </div>\n",
       "        "
      ],
      "text/plain": [
       "<pyspark.sql.session.SparkSession at 0x7f4b9b499ae0>"
      ]
     },
     "execution_count": 11,
     "metadata": {},
     "output_type": "execute_result"
    }
   ],
   "source": [
    "spark = (\n",
    "    SparkSession\n",
    "    .builder\n",
    "    .appName('InsightPlaces')\n",
    "    .getOrCreate()\n",
    ")\n",
    "\n",
    "spark"
   ]
  },
  {
   "cell_type": "code",
   "execution_count": 12,
   "metadata": {},
   "outputs": [
    {
     "name": "stderr",
     "output_type": "stream",
     "text": [
      "                                                                                \r"
     ]
    }
   ],
   "source": [
    "data = (\n",
    "    spark.read.format('json')\n",
    "    .option('inferSchema', True)\n",
    "    .load('data/dataset_bruto.json')\n",
    ")\n"
   ]
  },
  {
   "cell_type": "markdown",
   "metadata": {},
   "source": [
    "## Exploração dos Dados"
   ]
  },
  {
   "cell_type": "code",
   "execution_count": 13,
   "metadata": {},
   "outputs": [
    {
     "name": "stderr",
     "output_type": "stream",
     "text": [
      "[Stage 26:==================================================>       (7 + 1) / 8]\r"
     ]
    },
    {
     "name": "stdout",
     "output_type": "stream",
     "text": [
      "+--------------------+--------------------+--------------------+\n",
      "|             anuncio|             imagens|             usuario|\n",
      "+--------------------+--------------------+--------------------+\n",
      "|{0, [], [16], [0]...|[{39d6282a-71f3-4...|{9d44563d-3405-4e...|\n",
      "|{0, [], [14], [0]...|[{23d2b3ab-45b0-4...|{36245be7-70fe-40...|\n",
      "|{0, [1026], [1026...|[{1da65baa-368b-4...|{9dc415d8-1397-4d...|\n",
      "|{0, [120], [120],...|[{79b542c6-49b4-4...|{9911a2df-f299-4a...|\n",
      "|{0, [3], [3], [0]...|[{e2bc497b-6510-4...|{240a7aab-12e5-40...|\n",
      "+--------------------+--------------------+--------------------+\n",
      "\n"
     ]
    },
    {
     "name": "stderr",
     "output_type": "stream",
     "text": [
      "                                                                                \r"
     ]
    }
   ],
   "source": [
    "data.limit(5).show()"
   ]
  },
  {
   "cell_type": "code",
   "execution_count": 14,
   "metadata": {},
   "outputs": [],
   "source": [
    "# +----------------------------------------------------------------------------------------------------------------------------------------------------------------------------------------------------------------------------------------------------------------------------------------------------+--------------------------------------------------------------------------------------------------------------------------------------------------------------------------------------------------------------------------------------------------------------------------------------------------------------------------------------------------------------------------------------------------------------------------------------------------------------------------------------------------------------------------------------------------------------------------------------------------------+------------------------------------------------+\n",
    "# |anuncio                                                                                                                                                                                                                                                                                             |imagens                                                                                                                                                                                                                                                                                                                                                                                                                                                                                                                                                                                                 |usuario                                         |\n",
    "# +----------------------------------------------------------------------------------------------------------------------------------------------------------------------------------------------------------------------------------------------------------------------------------------------------+--------------------------------------------------------------------------------------------------------------------------------------------------------------------------------------------------------------------------------------------------------------------------------------------------------------------------------------------------------------------------------------------------------------------------------------------------------------------------------------------------------------------------------------------------------------------------------------------------------+------------------------------------------------+\n",
    "# |{0, [], [16], [0], [], {Centro, 20061003, Rio de Janeiro, Rio de Janeiro, -22.906082, -43.18671, BR, Rua Buenos Aires, Zona Central}, 47d553e0-79f2-4a46-9390-5a3c962740c2, [0], [0], Usado, Outros, Comercial, [1], [{260, 107, Venda, 10000}]}                                                    |[{39d6282a-71f3-47bc-94aa-909351ecd881, https://api.images.insightplaces.com.br/{type}/{width}/{height}/1b08098d-f2dc-439c-b604-a4e50d12774b.jpg}]                                                                                                                                                                                                                                                                                                                                                                                                                                                      |{9d44563d-3405-4e84-9381-35b7cf40a9a4, Frank}   |\n",
    "# |{0, [], [14], [0], [], {Centro, 20051040, Rio de Janeiro, Rio de Janeiro, -22.902536, -43.18434, BR, Avenida Passos, Zona Central}, b6ffbae1-17f6-4870-9950-e998ac1c8d6a, [0], [], Usado, Outros, Comercial, [0], [{260, 107, Venda, 10000}]}                                                       |[{23d2b3ab-45b0-47f2-a27f-ffbe066c2c38, https://api.images.insightplaces.com.br/{type}/{width}/{height}/7a65b929-fe46-4a60-ae31-81faf2edb3c6.jpg}, {1b5f71f8-1aec-4b82-8d4c-67540d204a59, https://api.images.insightplaces.com.br/{type}/{width}/{height}/82e92d72-002a-4d3b-8063-16d4d65474b3.jpg}, {9bb11688-7dc9-48b9-bc1d-6a7a2dbcd553, https://api.images.insightplaces.com.br/{type}/{width}/{height}/23be0c2c-4c8f-4718-8126-6f160bb3efcc.jpg}, {1aaf6095-70bc-4f1f-87a4-fe3534a1bd2a, https://api.images.insightplaces.com.br/{type}/{width}/{height}/0ae382f4-b1ac-4ad9-b6cf-d9b4d7d01908.jpg}]|{36245be7-70fe-40cd-84d4-70a57dc8f976, Caroline}|\n",
    "# |{0, [1026], [1026], [0], [], {Maria da Graça, 20785360, Rio de Janeiro, Rio de Janeiro, -22.885516, -43.269083, BR, Rua Luís de Brito, Zona Norte}, 1fb030a5-9e3e-4a1d-93cd-cd2d8a215e11, [0], [], Usado, Outros, Comercial, [0], [{null, 1613, Venda, 10000}]}                                     |[{1da65baa-368b-490f-bef7-1834b9a428c1, https://api.images.insightplaces.com.br/{type}/{width}/{height}/b06fe423-6f18-43bb-b0e3-a569158885d2.jpg}]                                                                                                                                                                                                                                                                                                                                                                                                                                                      |{9dc415d8-1397-4d8d-8425-b8310fad309d, Oliver}  |\n",
    "# |{0, [120], [120], [0], [Portão eletrônico, Condomínio fechado], {Campo Grande, 23095071, Rio de Janeiro, Rio de Janeiro, -22.885028, -43.561668, BR, Estrada Guandu do Sape, Zona Oeste}, ac6cb348-69d6-45af-9589-dc34099370d8, [0], [], Usado, Outros, Residencial, [], [{80, null, Venda, 10000}]}|[{79b542c6-49b4-4f06-80b5-ef4fcdf98f76, https://api.images.insightplaces.com.br/{type}/{width}/{height}/b9688b1a-e6e8-4027-9368-d8298bc5ac40.jpg}]                                                                                                                                                                                                                                                                                                                                                                                                                                                      |{9911a2df-f299-4a73-a384-281417abaf69, Matthew} |\n",
    "# |{0, [3], [3], [0], [], {São Cristóvão, 20931670, Rio de Janeiro, Rio de Janeiro, -22.885912, -43.219296, BR, Rua Monsenhor Manuel Gomes, Zona Norte}, e032b908-ef42-4d4a-8125-eba4792bacbe, [0], [], Usado, Outros, Residencial, [], [{0, 0, Venda, 5000}]}                                         |[{e2bc497b-6510-4731-8942-97b3d3cdab5e, https://api.images.insightplaces.com.br/{type}/{width}/{height}/bd7e2c54-8d10-4148-806d-0d656ff80fc2.jpg}]                                                                                                                                                                                                                                                                                                                                                                                                                                                      |{240a7aab-12e5-4069-9a2c-9dca4c4f9c68, Jude}    |\n",
    "# +----------------------------------------------------------------------------------------------------------------------------------------------------------------------------------------------------------------------------------------------------------------------------------------------------+--------------------------------------------------------------------------------------------------------------------------------------------------------------------------------------------------------------------------------------------------------------------------------------------------------------------------------------------------------------------------------------------------------------------------------------------------------------------------------------------------------------------------------------------------------------------------------------------------------+------------------------------------------------+"
   ]
  },
  {
   "cell_type": "code",
   "execution_count": 15,
   "metadata": {},
   "outputs": [
    {
     "name": "stdout",
     "output_type": "stream",
     "text": [
      "Número de linhas e colunas: (89083, 3)\n",
      "==================================================\n",
      "root\n",
      " |-- anuncio: struct (nullable = true)\n",
      " |    |-- andar: long (nullable = true)\n",
      " |    |-- area_total: array (nullable = true)\n",
      " |    |    |-- element: string (containsNull = true)\n",
      " |    |-- area_util: array (nullable = true)\n",
      " |    |    |-- element: string (containsNull = true)\n",
      " |    |-- banheiros: array (nullable = true)\n",
      " |    |    |-- element: long (containsNull = true)\n",
      " |    |-- caracteristicas: array (nullable = true)\n",
      " |    |    |-- element: string (containsNull = true)\n",
      " |    |-- endereco: struct (nullable = true)\n",
      " |    |    |-- bairro: string (nullable = true)\n",
      " |    |    |-- cep: string (nullable = true)\n",
      " |    |    |-- cidade: string (nullable = true)\n",
      " |    |    |-- estado: string (nullable = true)\n",
      " |    |    |-- latitude: double (nullable = true)\n",
      " |    |    |-- longitude: double (nullable = true)\n",
      " |    |    |-- pais: string (nullable = true)\n",
      " |    |    |-- rua: string (nullable = true)\n",
      " |    |    |-- zona: string (nullable = true)\n",
      " |    |-- id: string (nullable = true)\n",
      " |    |-- quartos: array (nullable = true)\n",
      " |    |    |-- element: long (containsNull = true)\n",
      " |    |-- suites: array (nullable = true)\n",
      " |    |    |-- element: long (containsNull = true)\n",
      " |    |-- tipo_anuncio: string (nullable = true)\n",
      " |    |-- tipo_unidade: string (nullable = true)\n",
      " |    |-- tipo_uso: string (nullable = true)\n",
      " |    |-- vaga: array (nullable = true)\n",
      " |    |    |-- element: long (containsNull = true)\n",
      " |    |-- valores: array (nullable = true)\n",
      " |    |    |-- element: struct (containsNull = true)\n",
      " |    |    |    |-- condominio: string (nullable = true)\n",
      " |    |    |    |-- iptu: string (nullable = true)\n",
      " |    |    |    |-- tipo: string (nullable = true)\n",
      " |    |    |    |-- valor: string (nullable = true)\n",
      " |-- imagens: array (nullable = true)\n",
      " |    |-- element: struct (containsNull = true)\n",
      " |    |    |-- id: string (nullable = true)\n",
      " |    |    |-- url: string (nullable = true)\n",
      " |-- usuario: struct (nullable = true)\n",
      " |    |-- id: string (nullable = true)\n",
      " |    |-- nome: string (nullable = true)\n",
      "\n"
     ]
    }
   ],
   "source": [
    "\n",
    "print('Número de linhas e colunas:', (data.count(), len(data.columns)) )\n",
    "utils.printSeparator()\n",
    "data.printSchema()"
   ]
  },
  {
   "cell_type": "markdown",
   "metadata": {},
   "source": [
    "## Análise e Tratamento dos Dados"
   ]
  },
  {
   "cell_type": "code",
   "execution_count": 20,
   "metadata": {},
   "outputs": [
    {
     "name": "stderr",
     "output_type": "stream",
     "text": [
      "                                                                                \r"
     ]
    },
    {
     "data": {
      "text/html": [
       "<table border='1'>\n",
       "<tr><th>andar</th><th>area_total</th><th>area_util</th><th>banheiros</th><th>caracteristicas</th><th>endereco</th><th>id</th><th>quartos</th><th>suites</th><th>tipo_anuncio</th><th>tipo_unidade</th><th>tipo_uso</th><th>vaga</th><th>valores</th></tr>\n",
       "<tr><td>0</td><td>[]</td><td>[16]</td><td>[0]</td><td>[]</td><td>{Centro, 20061003...</td><td>47d553e0-79f2-4a4...</td><td>[0]</td><td>[0]</td><td>Usado</td><td>Outros</td><td>Comercial</td><td>[1]</td><td>[{260, 107, Venda...</td></tr>\n",
       "<tr><td>0</td><td>[]</td><td>[14]</td><td>[0]</td><td>[]</td><td>{Centro, 20051040...</td><td>b6ffbae1-17f6-487...</td><td>[0]</td><td>[]</td><td>Usado</td><td>Outros</td><td>Comercial</td><td>[0]</td><td>[{260, 107, Venda...</td></tr>\n",
       "<tr><td>0</td><td>[1026]</td><td>[1026]</td><td>[0]</td><td>[]</td><td>{Maria da Graça, ...</td><td>1fb030a5-9e3e-4a1...</td><td>[0]</td><td>[]</td><td>Usado</td><td>Outros</td><td>Comercial</td><td>[0]</td><td>[{null, 1613, Ven...</td></tr>\n",
       "<tr><td>0</td><td>[120]</td><td>[120]</td><td>[0]</td><td>[Portão eletrônic...</td><td>{Campo Grande, 23...</td><td>ac6cb348-69d6-45a...</td><td>[0]</td><td>[]</td><td>Usado</td><td>Outros</td><td>Residencial</td><td>[]</td><td>[{80, null, Venda...</td></tr>\n",
       "<tr><td>0</td><td>[3]</td><td>[3]</td><td>[0]</td><td>[]</td><td>{São Cristóvão, 2...</td><td>e032b908-ef42-4d4...</td><td>[0]</td><td>[]</td><td>Usado</td><td>Outros</td><td>Residencial</td><td>[]</td><td>[{0, 0, Venda, 50...</td></tr>\n",
       "<tr><td>0</td><td>[20]</td><td>[15]</td><td>[1]</td><td>[]</td><td>{Centro, 20231047...</td><td>df9cf0b8-b972-433...</td><td>[0]</td><td>[]</td><td>Usado</td><td>Outros</td><td>Comercial</td><td>[1]</td><td>[{223, 87, Venda,...</td></tr>\n",
       "<tr><td>3</td><td>[43]</td><td>[43]</td><td>[1]</td><td>[Academia, Churra...</td><td>{Paciência, 23585...</td><td>d2e3a3aa-09b5-45a...</td><td>[2]</td><td>[]</td><td>Usado</td><td>Apartamento</td><td>Residencial</td><td>[1]</td><td>[{245, null, Vend...</td></tr>\n",
       "<tr><td>2</td><td>[42]</td><td>[42]</td><td>[1]</td><td>[Churrasqueira, P...</td><td>{Paciência, 23585...</td><td>085bab2c-87ad-452...</td><td>[2]</td><td>[]</td><td>Usado</td><td>Apartamento</td><td>Residencial</td><td>[1]</td><td>[{0, 0, Venda, 15...</td></tr>\n",
       "<tr><td>0</td><td>[]</td><td>[12]</td><td>[0]</td><td>[Portaria 24h, El...</td><td>{Centro, 20231047...</td><td>096ad966-dc36-47b...</td><td>[0]</td><td>[]</td><td>Usado</td><td>Outros</td><td>Comercial</td><td>[1]</td><td>[{250, null, Vend...</td></tr>\n",
       "<tr><td>1</td><td>[41]</td><td>[41]</td><td>[1]</td><td>[Portaria 24h, Co...</td><td>{Guaratiba, 23036...</td><td>18d22cbe-1b86-476...</td><td>[2]</td><td>[]</td><td>Usado</td><td>Apartamento</td><td>Residencial</td><td>[1]</td><td>[{0, 0, Venda, 20...</td></tr>\n",
       "<tr><td>3</td><td>[43]</td><td>[43]</td><td>[1]</td><td>[Churrasqueira, P...</td><td>{Cosmos, 23066271...</td><td>bed8a354-9317-442...</td><td>[2]</td><td>[]</td><td>Usado</td><td>Apartamento</td><td>Residencial</td><td>[0]</td><td>[{285, null, Vend...</td></tr>\n",
       "<tr><td>0</td><td>[10]</td><td>[4]</td><td>[0]</td><td>[Elevador, Portar...</td><td>{Centro, 20080021...</td><td>b7d0fbd3-0b28-420...</td><td>[0]</td><td>[]</td><td>Usado</td><td>Outros</td><td>Comercial</td><td>[0]</td><td>[{200, 86, Venda,...</td></tr>\n",
       "<tr><td>0</td><td>[12]</td><td>[12]</td><td>[1]</td><td>[Portaria 24h]</td><td>{Copacabana, 2202...</td><td>c6571c11-166e-4a4...</td><td>[0]</td><td>[]</td><td>Usado</td><td>Outros</td><td>Comercial</td><td>[]</td><td>[{470, null, Vend...</td></tr>\n",
       "<tr><td>0</td><td>[17]</td><td>[17]</td><td>[0]</td><td>[Elevador]</td><td>{Centro, 20070021...</td><td>46d5b560-205f-45f...</td><td>[0]</td><td>[]</td><td>Usado</td><td>Outros</td><td>Comercial</td><td>[1]</td><td>[{294, 98, Venda,...</td></tr>\n",
       "<tr><td>1</td><td>[32]</td><td>[32]</td><td>[]</td><td>[Elevador, Condom...</td><td>{Centro, 20090020...</td><td>db197997-00e6-4d6...</td><td>[]</td><td>[]</td><td>Usado</td><td>Outros</td><td>Comercial</td><td>[1]</td><td>[{684, null, Vend...</td></tr>\n",
       "<tr><td>0</td><td>[]</td><td>[10]</td><td>[0]</td><td>[Elevador, Condom...</td><td>{Saúde, 20080040,...</td><td>835d4338-4aa9-4e4...</td><td>[0]</td><td>[]</td><td>Usado</td><td>Outros</td><td>Comercial</td><td>[]</td><td>[{0, 120, Venda, ...</td></tr>\n",
       "<tr><td>2</td><td>[43]</td><td>[43]</td><td>[1]</td><td>[Academia, Churra...</td><td>{Guaratiba, 23036...</td><td>12a13315-d67f-48f...</td><td>[2]</td><td>[]</td><td>Usado</td><td>Apartamento</td><td>Residencial</td><td>[1]</td><td>[{245, null, Vend...</td></tr>\n",
       "<tr><td>3</td><td>[43]</td><td>[43]</td><td>[1]</td><td>[Churrasqueira, P...</td><td>{Cosmos, 23066271...</td><td>a2e6d7a5-0ff0-484...</td><td>[2]</td><td>[0]</td><td>Usado</td><td>Apartamento</td><td>Residencial</td><td>[0]</td><td>[{285, null, Vend...</td></tr>\n",
       "<tr><td>3</td><td>[43]</td><td>[43]</td><td>[1]</td><td>[Churrasqueira, P...</td><td>{Paciência, 23585...</td><td>a6e3173b-c950-4db...</td><td>[2]</td><td>[]</td><td>Usado</td><td>Apartamento</td><td>Residencial</td><td>[1]</td><td>[{250, null, Vend...</td></tr>\n",
       "<tr><td>3</td><td>[43]</td><td>[43]</td><td>[1]</td><td>[Churrasqueira, P...</td><td>{Guaratiba, 23036...</td><td>2e6e5dfb-206c-496...</td><td>[2]</td><td>[0]</td><td>Usado</td><td>Apartamento</td><td>Residencial</td><td>[1]</td><td>[{245, null, Vend...</td></tr>\n",
       "</table>\n",
       "only showing top 20 rows\n"
      ],
      "text/plain": [
       "+-----+----------+---------+---------+--------------------+--------------------+--------------------+-------+------+------------+------------+-----------+----+--------------------+\n",
       "|andar|area_total|area_util|banheiros|     caracteristicas|            endereco|                  id|quartos|suites|tipo_anuncio|tipo_unidade|   tipo_uso|vaga|             valores|\n",
       "+-----+----------+---------+---------+--------------------+--------------------+--------------------+-------+------+------------+------------+-----------+----+--------------------+\n",
       "|    0|        []|     [16]|      [0]|                  []|{Centro, 20061003...|47d553e0-79f2-4a4...|    [0]|   [0]|       Usado|      Outros|  Comercial| [1]|[{260, 107, Venda...|\n",
       "|    0|        []|     [14]|      [0]|                  []|{Centro, 20051040...|b6ffbae1-17f6-487...|    [0]|    []|       Usado|      Outros|  Comercial| [0]|[{260, 107, Venda...|\n",
       "|    0|    [1026]|   [1026]|      [0]|                  []|{Maria da Graça, ...|1fb030a5-9e3e-4a1...|    [0]|    []|       Usado|      Outros|  Comercial| [0]|[{null, 1613, Ven...|\n",
       "|    0|     [120]|    [120]|      [0]|[Portão eletrônic...|{Campo Grande, 23...|ac6cb348-69d6-45a...|    [0]|    []|       Usado|      Outros|Residencial|  []|[{80, null, Venda...|\n",
       "|    0|       [3]|      [3]|      [0]|                  []|{São Cristóvão, 2...|e032b908-ef42-4d4...|    [0]|    []|       Usado|      Outros|Residencial|  []|[{0, 0, Venda, 50...|\n",
       "|    0|      [20]|     [15]|      [1]|                  []|{Centro, 20231047...|df9cf0b8-b972-433...|    [0]|    []|       Usado|      Outros|  Comercial| [1]|[{223, 87, Venda,...|\n",
       "|    3|      [43]|     [43]|      [1]|[Academia, Churra...|{Paciência, 23585...|d2e3a3aa-09b5-45a...|    [2]|    []|       Usado| Apartamento|Residencial| [1]|[{245, null, Vend...|\n",
       "|    2|      [42]|     [42]|      [1]|[Churrasqueira, P...|{Paciência, 23585...|085bab2c-87ad-452...|    [2]|    []|       Usado| Apartamento|Residencial| [1]|[{0, 0, Venda, 15...|\n",
       "|    0|        []|     [12]|      [0]|[Portaria 24h, El...|{Centro, 20231047...|096ad966-dc36-47b...|    [0]|    []|       Usado|      Outros|  Comercial| [1]|[{250, null, Vend...|\n",
       "|    1|      [41]|     [41]|      [1]|[Portaria 24h, Co...|{Guaratiba, 23036...|18d22cbe-1b86-476...|    [2]|    []|       Usado| Apartamento|Residencial| [1]|[{0, 0, Venda, 20...|\n",
       "|    3|      [43]|     [43]|      [1]|[Churrasqueira, P...|{Cosmos, 23066271...|bed8a354-9317-442...|    [2]|    []|       Usado| Apartamento|Residencial| [0]|[{285, null, Vend...|\n",
       "|    0|      [10]|      [4]|      [0]|[Elevador, Portar...|{Centro, 20080021...|b7d0fbd3-0b28-420...|    [0]|    []|       Usado|      Outros|  Comercial| [0]|[{200, 86, Venda,...|\n",
       "|    0|      [12]|     [12]|      [1]|      [Portaria 24h]|{Copacabana, 2202...|c6571c11-166e-4a4...|    [0]|    []|       Usado|      Outros|  Comercial|  []|[{470, null, Vend...|\n",
       "|    0|      [17]|     [17]|      [0]|          [Elevador]|{Centro, 20070021...|46d5b560-205f-45f...|    [0]|    []|       Usado|      Outros|  Comercial| [1]|[{294, 98, Venda,...|\n",
       "|    1|      [32]|     [32]|       []|[Elevador, Condom...|{Centro, 20090020...|db197997-00e6-4d6...|     []|    []|       Usado|      Outros|  Comercial| [1]|[{684, null, Vend...|\n",
       "|    0|        []|     [10]|      [0]|[Elevador, Condom...|{Saúde, 20080040,...|835d4338-4aa9-4e4...|    [0]|    []|       Usado|      Outros|  Comercial|  []|[{0, 120, Venda, ...|\n",
       "|    2|      [43]|     [43]|      [1]|[Academia, Churra...|{Guaratiba, 23036...|12a13315-d67f-48f...|    [2]|    []|       Usado| Apartamento|Residencial| [1]|[{245, null, Vend...|\n",
       "|    3|      [43]|     [43]|      [1]|[Churrasqueira, P...|{Cosmos, 23066271...|a2e6d7a5-0ff0-484...|    [2]|   [0]|       Usado| Apartamento|Residencial| [0]|[{285, null, Vend...|\n",
       "|    3|      [43]|     [43]|      [1]|[Churrasqueira, P...|{Paciência, 23585...|a6e3173b-c950-4db...|    [2]|    []|       Usado| Apartamento|Residencial| [1]|[{250, null, Vend...|\n",
       "|    3|      [43]|     [43]|      [1]|[Churrasqueira, P...|{Guaratiba, 23036...|2e6e5dfb-206c-496...|    [2]|   [0]|       Usado| Apartamento|Residencial| [1]|[{245, null, Vend...|\n",
       "+-----+----------+---------+---------+--------------------+--------------------+--------------------+-------+------+------------+------------+-----------+----+--------------------+\n",
       "only showing top 20 rows"
      ]
     },
     "execution_count": 20,
     "metadata": {},
     "output_type": "execute_result"
    }
   ],
   "source": [
    "data.select('anuncio.*')"
   ]
  },
  {
   "cell_type": "code",
   "execution_count": 76,
   "metadata": {},
   "outputs": [
    {
     "name": "stdout",
     "output_type": "stream",
     "text": [
      "root\n",
      " |-- andar: long (nullable = true)\n",
      " |-- area_total: array (nullable = true)\n",
      " |    |-- element: string (containsNull = true)\n",
      " |-- area_util: array (nullable = true)\n",
      " |    |-- element: string (containsNull = true)\n",
      " |-- banheiros: array (nullable = true)\n",
      " |    |-- element: long (containsNull = true)\n",
      " |-- caracteristicas: array (nullable = true)\n",
      " |    |-- element: string (containsNull = true)\n",
      " |-- bairro: string (nullable = true)\n",
      " |-- cep: string (nullable = true)\n",
      " |-- cidade: string (nullable = true)\n",
      " |-- estado: string (nullable = true)\n",
      " |-- latitude: double (nullable = true)\n",
      " |-- longitude: double (nullable = true)\n",
      " |-- pais: string (nullable = true)\n",
      " |-- rua: string (nullable = true)\n",
      " |-- zona: string (nullable = true)\n",
      " |-- id: string (nullable = true)\n",
      " |-- quartos: array (nullable = true)\n",
      " |    |-- element: long (containsNull = true)\n",
      " |-- suites: array (nullable = true)\n",
      " |    |-- element: long (containsNull = true)\n",
      " |-- tipo_anuncio: string (nullable = true)\n",
      " |-- tipo_unidade: string (nullable = true)\n",
      " |-- tipo_uso: string (nullable = true)\n",
      " |-- vaga: array (nullable = true)\n",
      " |    |-- element: long (containsNull = true)\n",
      " |-- valores: struct (nullable = true)\n",
      " |    |-- condominio: string (nullable = true)\n",
      " |    |-- iptu: string (nullable = true)\n",
      " |    |-- tipo: string (nullable = true)\n",
      " |    |-- valor: string (nullable = true)\n",
      " |-- imagens: array (nullable = true)\n",
      " |    |-- element: struct (containsNull = true)\n",
      " |    |    |-- id: string (nullable = true)\n",
      " |    |    |-- url: string (nullable = true)\n",
      " |-- id: string (nullable = true)\n",
      " |-- nome: string (nullable = true)\n",
      "\n"
     ]
    },
    {
     "name": "stderr",
     "output_type": "stream",
     "text": [
      "                                                                                \r"
     ]
    },
    {
     "data": {
      "text/html": [
       "<table border='1'>\n",
       "<tr><th>andar</th><th>area_total</th><th>area_util</th><th>banheiros</th><th>caracteristicas</th><th>bairro</th><th>cep</th><th>cidade</th><th>estado</th><th>latitude</th><th>longitude</th><th>pais</th><th>rua</th><th>zona</th><th>id</th><th>quartos</th><th>suites</th><th>tipo_anuncio</th><th>tipo_unidade</th><th>tipo_uso</th><th>vaga</th><th>valores</th><th>imagens</th><th>id</th><th>nome</th></tr>\n",
       "<tr><td>0</td><td>[]</td><td>[16]</td><td>[0]</td><td>[]</td><td>Centro</td><td>20061003</td><td>Rio de Janeiro</td><td>Rio de Janeiro</td><td>-22.906082</td><td>-43.18671</td><td>BR</td><td>Rua Buenos Aires</td><td>Zona Central</td><td>47d553e0-79f2-4a4...</td><td>[0]</td><td>[0]</td><td>Usado</td><td>Outros</td><td>Comercial</td><td>[1]</td><td>{260, 107, Venda,...</td><td>[{39d6282a-71f3-4...</td><td>9d44563d-3405-4e8...</td><td>Frank</td></tr>\n",
       "<tr><td>0</td><td>[]</td><td>[14]</td><td>[0]</td><td>[]</td><td>Centro</td><td>20051040</td><td>Rio de Janeiro</td><td>Rio de Janeiro</td><td>-22.902536</td><td>-43.18434</td><td>BR</td><td>Avenida Passos</td><td>Zona Central</td><td>b6ffbae1-17f6-487...</td><td>[0]</td><td>[]</td><td>Usado</td><td>Outros</td><td>Comercial</td><td>[0]</td><td>{260, 107, Venda,...</td><td>[{23d2b3ab-45b0-4...</td><td>36245be7-70fe-40c...</td><td>Caroline</td></tr>\n",
       "<tr><td>0</td><td>[1026]</td><td>[1026]</td><td>[0]</td><td>[]</td><td>Maria da Graça</td><td>20785360</td><td>Rio de Janeiro</td><td>Rio de Janeiro</td><td>-22.885516</td><td>-43.269083</td><td>BR</td><td>Rua Luís de Brito</td><td>Zona Norte</td><td>1fb030a5-9e3e-4a1...</td><td>[0]</td><td>[]</td><td>Usado</td><td>Outros</td><td>Comercial</td><td>[0]</td><td>{null, 1613, Vend...</td><td>[{1da65baa-368b-4...</td><td>9dc415d8-1397-4d8...</td><td>Oliver</td></tr>\n",
       "</table>\n"
      ],
      "text/plain": [
       "+-----+----------+---------+---------+---------------+--------------+--------+--------------+--------------+----------+----------+----+-----------------+------------+--------------------+-------+------+------------+------------+---------+----+--------------------+--------------------+--------------------+--------+\n",
       "|andar|area_total|area_util|banheiros|caracteristicas|        bairro|     cep|        cidade|        estado|  latitude| longitude|pais|              rua|        zona|                  id|quartos|suites|tipo_anuncio|tipo_unidade| tipo_uso|vaga|             valores|             imagens|                  id|    nome|\n",
       "+-----+----------+---------+---------+---------------+--------------+--------+--------------+--------------+----------+----------+----+-----------------+------------+--------------------+-------+------+------------+------------+---------+----+--------------------+--------------------+--------------------+--------+\n",
       "|    0|        []|     [16]|      [0]|             []|        Centro|20061003|Rio de Janeiro|Rio de Janeiro|-22.906082| -43.18671|  BR| Rua Buenos Aires|Zona Central|47d553e0-79f2-4a4...|    [0]|   [0]|       Usado|      Outros|Comercial| [1]|{260, 107, Venda,...|[{39d6282a-71f3-4...|9d44563d-3405-4e8...|   Frank|\n",
       "|    0|        []|     [14]|      [0]|             []|        Centro|20051040|Rio de Janeiro|Rio de Janeiro|-22.902536| -43.18434|  BR|   Avenida Passos|Zona Central|b6ffbae1-17f6-487...|    [0]|    []|       Usado|      Outros|Comercial| [0]|{260, 107, Venda,...|[{23d2b3ab-45b0-4...|36245be7-70fe-40c...|Caroline|\n",
       "|    0|    [1026]|   [1026]|      [0]|             []|Maria da Graça|20785360|Rio de Janeiro|Rio de Janeiro|-22.885516|-43.269083|  BR|Rua Luís de Brito|  Zona Norte|1fb030a5-9e3e-4a1...|    [0]|    []|       Usado|      Outros|Comercial| [0]|{null, 1613, Vend...|[{1da65baa-368b-4...|9dc415d8-1397-4d8...|  Oliver|\n",
       "+-----+----------+---------+---------+---------------+--------------+--------+--------------+--------------+----------+----------+----+-----------------+------------+--------------------+-------+------+------------+------------+---------+----+--------------------+--------------------+--------------------+--------+"
      ]
     },
     "execution_count": 76,
     "metadata": {},
     "output_type": "execute_result"
    }
   ],
   "source": [
    "data_in_prepared = data.select(\n",
    "    'anuncio.andar',\n",
    "    'anuncio.area_total',\n",
    "    'anuncio.area_util',\n",
    "    'anuncio.banheiros',\n",
    "    'anuncio.caracteristicas',\n",
    "    'anuncio.endereco.*',\n",
    "    'anuncio.id',\n",
    "    'anuncio.quartos',\n",
    "    'anuncio.suites',\n",
    "    'anuncio.tipo_anuncio',\n",
    "    'anuncio.tipo_unidade',\n",
    "    'anuncio.tipo_uso',\n",
    "    'anuncio.vaga',\n",
    "    F.explode('anuncio.valores').alias('valores'),\n",
    "    'imagens',\n",
    "    'usuario.*'\n",
    " )\n",
    "\n",
    "data_in_prepared.printSchema()\n",
    "data_in_prepared.limit(3)\n",
    "\n",
    "# +-----+----------+---------+---------+---------------+--------------+--------+--------------+--------------+----------+----------+----+-----------------+------------+------------------------------------+-------+------+------------+------------+---------+----+--------------------------+--------------------------------------------------------------------------------------------------------------------------------------------------------------------------------------------------------------------------------------------------------------------------------------------------------------------------------------------------------------------------------------------------------------------------------------------------------------------------------------------------------------------------------------------------------------------------------------------------------+------------------------------------+--------+\n",
    "# |andar|area_total|area_util|banheiros|caracteristicas|bairro        |cep     |cidade        |estado        |latitude  |longitude |pais|rua              |zona        |id                                  |quartos|suites|tipo_anuncio|tipo_unidade|tipo_uso |vaga|valores                   |imagens                                                                                                                                                                                                                                                                                                                                                                                                                                                                                                                                                                                                 |id                                  |nome    |\n",
    "# +-----+----------+---------+---------+---------------+--------------+--------+--------------+--------------+----------+----------+----+-----------------+------------+------------------------------------+-------+------+------------+------------+---------+----+--------------------------+--------------------------------------------------------------------------------------------------------------------------------------------------------------------------------------------------------------------------------------------------------------------------------------------------------------------------------------------------------------------------------------------------------------------------------------------------------------------------------------------------------------------------------------------------------------------------------------------------------+------------------------------------+--------+\n",
    "# |0    |[]        |[16]     |[0]      |[]             |Centro        |20061003|Rio de Janeiro|Rio de Janeiro|-22.906082|-43.18671 |BR  |Rua Buenos Aires |Zona Central|47d553e0-79f2-4a46-9390-5a3c962740c2|[0]    |[0]   |Usado       |Outros      |Comercial|[1] |{260, 107, Venda, 10000}  |[{39d6282a-71f3-47bc-94aa-909351ecd881, https://api.images.insightplaces.com.br/{type}/{width}/{height}/1b08098d-f2dc-439c-b604-a4e50d12774b.jpg}]                                                                                                                                                                                                                                                                                                                                                                                                                                                      |9d44563d-3405-4e84-9381-35b7cf40a9a4|Frank   |\n",
    "# |0    |[]        |[14]     |[0]      |[]             |Centro        |20051040|Rio de Janeiro|Rio de Janeiro|-22.902536|-43.18434 |BR  |Avenida Passos   |Zona Central|b6ffbae1-17f6-4870-9950-e998ac1c8d6a|[0]    |[]    |Usado       |Outros      |Comercial|[0] |{260, 107, Venda, 10000}  |[{23d2b3ab-45b0-47f2-a27f-ffbe066c2c38, https://api.images.insightplaces.com.br/{type}/{width}/{height}/7a65b929-fe46-4a60-ae31-81faf2edb3c6.jpg}, {1b5f71f8-1aec-4b82-8d4c-67540d204a59, https://api.images.insightplaces.com.br/{type}/{width}/{height}/82e92d72-002a-4d3b-8063-16d4d65474b3.jpg}, {9bb11688-7dc9-48b9-bc1d-6a7a2dbcd553, https://api.images.insightplaces.com.br/{type}/{width}/{height}/23be0c2c-4c8f-4718-8126-6f160bb3efcc.jpg}, {1aaf6095-70bc-4f1f-87a4-fe3534a1bd2a, https://api.images.insightplaces.com.br/{type}/{width}/{height}/0ae382f4-b1ac-4ad9-b6cf-d9b4d7d01908.jpg}]|36245be7-70fe-40cd-84d4-70a57dc8f976|Caroline|\n",
    "# |0    |[1026]    |[1026]   |[0]      |[]             |Maria da Graça|20785360|Rio de Janeiro|Rio de Janeiro|-22.885516|-43.269083|BR  |Rua Luís de Brito|Zona Norte  |1fb030a5-9e3e-4a1d-93cd-cd2d8a215e11|[0]    |[]    |Usado       |Outros      |Comercial|[0] |{null, 1613, Venda, 10000}|[{1da65baa-368b-490f-bef7-1834b9a428c1, https://api.images.insightplaces.com.br/{type}/{width}/{height}/b06fe423-6f18-43bb-b0e3-a569158885d2.jpg}]                                                                                                                                                                                                                                                                                                                                                                                                                                                      |9dc415d8-1397-4d8d-8425-b8310fad309d|Oliver  |\n",
    "# +-----+----------+---------+---------+---------------+--------------+--------+--------------+--------------+----------+----------+----+-----------------+------------+------------------------------------+-------+------+------------+------------+---------+----+--------------------------+--------------------------------------------------------------------------------------------------------------------------------------------------------------------------------------------------------------------------------------------------------------------------------------------------------------------------------------------------------------------------------------------------------------------------------------------------------------------------------------------------------------------------------------------------------------------------------------------------------+------------------------------------+--------+"
   ]
  }
 ],
 "metadata": {
  "kernelspec": {
   "display_name": "Python 3.10.6 ('.venv': venv)",
   "language": "python",
   "name": "python3"
  },
  "language_info": {
   "codemirror_mode": {
    "name": "ipython",
    "version": 3
   },
   "file_extension": ".py",
   "mimetype": "text/x-python",
   "name": "python",
   "nbconvert_exporter": "python",
   "pygments_lexer": "ipython3",
   "version": "3.10.6"
  },
  "orig_nbformat": 4,
  "vscode": {
   "interpreter": {
    "hash": "23b8461584f00431a2a8cf1d1f30f1155c0d1760103e4a24546e7884c2038306"
   }
  }
 },
 "nbformat": 4,
 "nbformat_minor": 2
}
