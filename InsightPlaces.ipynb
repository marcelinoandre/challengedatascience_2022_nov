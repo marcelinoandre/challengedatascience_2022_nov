{
 "cells": [
  {
   "cell_type": "markdown",
   "metadata": {},
   "source": [
    "# Challenge Data Science\n",
    "\n",
    "Desafio [Alura](https://www.alura.com.br/) -  Um projeto de Data Science com PySpark"
   ]
  },
  {
   "cell_type": "markdown",
   "metadata": {},
   "source": [
    "![title](resources/home_insigthplaces.png)"
   ]
  },
  {
   "cell_type": "markdown",
   "metadata": {},
   "source": [
    "A imobiliária **InsightPlaces**, situada na cidade do Rio de Janeiro, está enfrentando dificuldades para alugar e vender imóveis. Em uma pesquisa de como empresas semelhantes operam no mercado, a InsightPlaces percebeu que esse problema pode estar relacionado aos valores dos imóveis e às recomendações que faz.\n",
    "\n",
    "Sou do time de Ciência de Dados e **Big Data** da InsightPlaces e fiquei responsável por auxiliar no processo de análise de dados dos imóveis localizados em alguns bairros da cidade do Rio de Janeiro.\n",
    "\n",
    "Dentro desse contexto, como podemos definir de forma eficiente os preços dos imóveis lidando com grande volume de dados? É importante recomendar imóveis utilizando outro critério? O que precisa ser feito?\n",
    "\n",
    "Esse projeto tem algumas etapas como: ler e fazer o tratamento do histórico dos preços de imóveis no Rio de Janeiro, construir um modelo de regressão para precificar imóveis e criar um recomendador de imóveis. Para cada uma dessas etapas vamos utilizar a ferramenta **PySpark** que oferece uma melhor performance ao trabalharmos com grandes volumes de dado\n",
    "\n",
    "Vamos que vamos!"
   ]
  },
  {
   "cell_type": "markdown",
   "metadata": {},
   "source": [
    "\n",
    "##  Semana 01\n",
    "\n",
    "## Transformando dados com PySpark\n",
    "Vamos explorar e tratar uma base de dados que veio dos sistemas internos da nossa empresa."
   ]
  },
  {
   "cell_type": "markdown",
   "metadata": {},
   "source": [
    "### Imports e carregamento dos Dados"
   ]
  },
  {
   "cell_type": "code",
   "execution_count": 46,
   "metadata": {},
   "outputs": [],
   "source": [
    "from pyspark.sql import(\n",
    "    SparkSession, \n",
    "    functions as F,\n",
    "    DataFrame\n",
    ") \n",
    "import utils"
   ]
  },
  {
   "cell_type": "code",
   "execution_count": 47,
   "metadata": {},
   "outputs": [
    {
     "data": {
      "text/html": [
       "\n",
       "            <div>\n",
       "                <p><b>SparkSession - in-memory</b></p>\n",
       "                \n",
       "        <div>\n",
       "            <p><b>SparkContext</b></p>\n",
       "\n",
       "            <p><a href=\"http://192.168.0.23:4040\">Spark UI</a></p>\n",
       "\n",
       "            <dl>\n",
       "              <dt>Version</dt>\n",
       "                <dd><code>v3.3.1</code></dd>\n",
       "              <dt>Master</dt>\n",
       "                <dd><code>local[*]</code></dd>\n",
       "              <dt>AppName</dt>\n",
       "                <dd><code>InsightPlaces</code></dd>\n",
       "            </dl>\n",
       "        </div>\n",
       "        \n",
       "            </div>\n",
       "        "
      ],
      "text/plain": [
       "<pyspark.sql.session.SparkSession at 0x7f3859a81f00>"
      ]
     },
     "execution_count": 47,
     "metadata": {},
     "output_type": "execute_result"
    }
   ],
   "source": [
    "spark = (\n",
    "    SparkSession\n",
    "    .builder\n",
    "    .appName('InsightPlaces')\n",
    "    .getOrCreate()\n",
    ")\n",
    "\n",
    "spark"
   ]
  },
  {
   "cell_type": "code",
   "execution_count": 48,
   "metadata": {},
   "outputs": [
    {
     "name": "stderr",
     "output_type": "stream",
     "text": [
      "                                                                                \r"
     ]
    }
   ],
   "source": [
    "data = (\n",
    "    spark.read.format('json')\n",
    "    .option('inferSchema', True)\n",
    "    .load('data/dataset_bruto.json')\n",
    ")\n"
   ]
  },
  {
   "cell_type": "markdown",
   "metadata": {},
   "source": [
    "### Exploração dos Dados"
   ]
  },
  {
   "cell_type": "code",
   "execution_count": 49,
   "metadata": {},
   "outputs": [
    {
     "name": "stderr",
     "output_type": "stream",
     "text": [
      "[Stage 151:=================================================>       (7 + 1) / 8]\r"
     ]
    },
    {
     "name": "stdout",
     "output_type": "stream",
     "text": [
      "+--------------------+--------------------+--------------------+\n",
      "|             anuncio|             imagens|             usuario|\n",
      "+--------------------+--------------------+--------------------+\n",
      "|{0, [], [16], [0]...|[{39d6282a-71f3-4...|{9d44563d-3405-4e...|\n",
      "|{0, [], [14], [0]...|[{23d2b3ab-45b0-4...|{36245be7-70fe-40...|\n",
      "|{0, [1026], [1026...|[{1da65baa-368b-4...|{9dc415d8-1397-4d...|\n",
      "|{0, [120], [120],...|[{79b542c6-49b4-4...|{9911a2df-f299-4a...|\n",
      "|{0, [3], [3], [0]...|[{e2bc497b-6510-4...|{240a7aab-12e5-40...|\n",
      "+--------------------+--------------------+--------------------+\n",
      "\n"
     ]
    },
    {
     "name": "stderr",
     "output_type": "stream",
     "text": [
      "                                                                                \r"
     ]
    }
   ],
   "source": [
    "data.limit(5).show()"
   ]
  },
  {
   "cell_type": "code",
   "execution_count": 50,
   "metadata": {},
   "outputs": [
    {
     "name": "stdout",
     "output_type": "stream",
     "text": [
      "Número de linhas e colunas: (89083, 3)\n",
      "==================================================\n",
      "root\n",
      " |-- anuncio: struct (nullable = true)\n",
      " |    |-- andar: long (nullable = true)\n",
      " |    |-- area_total: array (nullable = true)\n",
      " |    |    |-- element: string (containsNull = true)\n",
      " |    |-- area_util: array (nullable = true)\n",
      " |    |    |-- element: string (containsNull = true)\n",
      " |    |-- banheiros: array (nullable = true)\n",
      " |    |    |-- element: long (containsNull = true)\n",
      " |    |-- caracteristicas: array (nullable = true)\n",
      " |    |    |-- element: string (containsNull = true)\n",
      " |    |-- endereco: struct (nullable = true)\n",
      " |    |    |-- bairro: string (nullable = true)\n",
      " |    |    |-- cep: string (nullable = true)\n",
      " |    |    |-- cidade: string (nullable = true)\n",
      " |    |    |-- estado: string (nullable = true)\n",
      " |    |    |-- latitude: double (nullable = true)\n",
      " |    |    |-- longitude: double (nullable = true)\n",
      " |    |    |-- pais: string (nullable = true)\n",
      " |    |    |-- rua: string (nullable = true)\n",
      " |    |    |-- zona: string (nullable = true)\n",
      " |    |-- id: string (nullable = true)\n",
      " |    |-- quartos: array (nullable = true)\n",
      " |    |    |-- element: long (containsNull = true)\n",
      " |    |-- suites: array (nullable = true)\n",
      " |    |    |-- element: long (containsNull = true)\n",
      " |    |-- tipo_anuncio: string (nullable = true)\n",
      " |    |-- tipo_unidade: string (nullable = true)\n",
      " |    |-- tipo_uso: string (nullable = true)\n",
      " |    |-- vaga: array (nullable = true)\n",
      " |    |    |-- element: long (containsNull = true)\n",
      " |    |-- valores: array (nullable = true)\n",
      " |    |    |-- element: struct (containsNull = true)\n",
      " |    |    |    |-- condominio: string (nullable = true)\n",
      " |    |    |    |-- iptu: string (nullable = true)\n",
      " |    |    |    |-- tipo: string (nullable = true)\n",
      " |    |    |    |-- valor: string (nullable = true)\n",
      " |-- imagens: array (nullable = true)\n",
      " |    |-- element: struct (containsNull = true)\n",
      " |    |    |-- id: string (nullable = true)\n",
      " |    |    |-- url: string (nullable = true)\n",
      " |-- usuario: struct (nullable = true)\n",
      " |    |-- id: string (nullable = true)\n",
      " |    |-- nome: string (nullable = true)\n",
      "\n"
     ]
    }
   ],
   "source": [
    "\n",
    "print('Número de linhas e colunas:', (data.count(), len(data.columns)) )\n",
    "utils.printSeparator()\n",
    "data.printSchema()"
   ]
  },
  {
   "cell_type": "markdown",
   "metadata": {},
   "source": [
    "### Análise e Tratamento dos Dados"
   ]
  },
  {
   "cell_type": "code",
   "execution_count": 51,
   "metadata": {},
   "outputs": [
    {
     "name": "stderr",
     "output_type": "stream",
     "text": [
      "                                                                                \r"
     ]
    },
    {
     "data": {
      "text/html": [
       "<table border='1'>\n",
       "<tr><th>andar</th><th>area_total</th><th>area_util</th><th>banheiros</th><th>caracteristicas</th><th>endereco</th><th>id</th><th>quartos</th><th>suites</th><th>tipo_anuncio</th><th>tipo_unidade</th><th>tipo_uso</th><th>vaga</th><th>valores</th><th>imagens</th><th>id</th><th>nome</th></tr>\n",
       "<tr><td>0</td><td>[]</td><td>[16]</td><td>[0]</td><td>[]</td><td>{Centro, 20061003...</td><td>47d553e0-79f2-4a4...</td><td>[0]</td><td>[0]</td><td>Usado</td><td>Outros</td><td>Comercial</td><td>[1]</td><td>[{260, 107, Venda...</td><td>[{39d6282a-71f3-4...</td><td>9d44563d-3405-4e8...</td><td>Frank</td></tr>\n",
       "<tr><td>0</td><td>[]</td><td>[14]</td><td>[0]</td><td>[]</td><td>{Centro, 20051040...</td><td>b6ffbae1-17f6-487...</td><td>[0]</td><td>[]</td><td>Usado</td><td>Outros</td><td>Comercial</td><td>[0]</td><td>[{260, 107, Venda...</td><td>[{23d2b3ab-45b0-4...</td><td>36245be7-70fe-40c...</td><td>Caroline</td></tr>\n",
       "<tr><td>0</td><td>[1026]</td><td>[1026]</td><td>[0]</td><td>[]</td><td>{Maria da Graça, ...</td><td>1fb030a5-9e3e-4a1...</td><td>[0]</td><td>[]</td><td>Usado</td><td>Outros</td><td>Comercial</td><td>[0]</td><td>[{null, 1613, Ven...</td><td>[{1da65baa-368b-4...</td><td>9dc415d8-1397-4d8...</td><td>Oliver</td></tr>\n",
       "<tr><td>0</td><td>[120]</td><td>[120]</td><td>[0]</td><td>[Portão eletrônic...</td><td>{Campo Grande, 23...</td><td>ac6cb348-69d6-45a...</td><td>[0]</td><td>[]</td><td>Usado</td><td>Outros</td><td>Residencial</td><td>[]</td><td>[{80, null, Venda...</td><td>[{79b542c6-49b4-4...</td><td>9911a2df-f299-4a7...</td><td>Matthew</td></tr>\n",
       "<tr><td>0</td><td>[3]</td><td>[3]</td><td>[0]</td><td>[]</td><td>{São Cristóvão, 2...</td><td>e032b908-ef42-4d4...</td><td>[0]</td><td>[]</td><td>Usado</td><td>Outros</td><td>Residencial</td><td>[]</td><td>[{0, 0, Venda, 50...</td><td>[{e2bc497b-6510-4...</td><td>240a7aab-12e5-406...</td><td>Jude</td></tr>\n",
       "</table>\n"
      ],
      "text/plain": [
       "+-----+----------+---------+---------+--------------------+--------------------+--------------------+-------+------+------------+------------+-----------+----+--------------------+--------------------+--------------------+--------+\n",
       "|andar|area_total|area_util|banheiros|     caracteristicas|            endereco|                  id|quartos|suites|tipo_anuncio|tipo_unidade|   tipo_uso|vaga|             valores|             imagens|                  id|    nome|\n",
       "+-----+----------+---------+---------+--------------------+--------------------+--------------------+-------+------+------------+------------+-----------+----+--------------------+--------------------+--------------------+--------+\n",
       "|    0|        []|     [16]|      [0]|                  []|{Centro, 20061003...|47d553e0-79f2-4a4...|    [0]|   [0]|       Usado|      Outros|  Comercial| [1]|[{260, 107, Venda...|[{39d6282a-71f3-4...|9d44563d-3405-4e8...|   Frank|\n",
       "|    0|        []|     [14]|      [0]|                  []|{Centro, 20051040...|b6ffbae1-17f6-487...|    [0]|    []|       Usado|      Outros|  Comercial| [0]|[{260, 107, Venda...|[{23d2b3ab-45b0-4...|36245be7-70fe-40c...|Caroline|\n",
       "|    0|    [1026]|   [1026]|      [0]|                  []|{Maria da Graça, ...|1fb030a5-9e3e-4a1...|    [0]|    []|       Usado|      Outros|  Comercial| [0]|[{null, 1613, Ven...|[{1da65baa-368b-4...|9dc415d8-1397-4d8...|  Oliver|\n",
       "|    0|     [120]|    [120]|      [0]|[Portão eletrônic...|{Campo Grande, 23...|ac6cb348-69d6-45a...|    [0]|    []|       Usado|      Outros|Residencial|  []|[{80, null, Venda...|[{79b542c6-49b4-4...|9911a2df-f299-4a7...| Matthew|\n",
       "|    0|       [3]|      [3]|      [0]|                  []|{São Cristóvão, 2...|e032b908-ef42-4d4...|    [0]|    []|       Usado|      Outros|Residencial|  []|[{0, 0, Venda, 50...|[{e2bc497b-6510-4...|240a7aab-12e5-406...|    Jude|\n",
       "+-----+----------+---------+---------+--------------------+--------------------+--------------------+-------+------+------------+------------+-----------+----+--------------------+--------------------+--------------------+--------+"
      ]
     },
     "execution_count": 51,
     "metadata": {},
     "output_type": "execute_result"
    }
   ],
   "source": [
    "\n",
    "data.select('anuncio.*', 'imagens', 'usuario.*').limit(5)"
   ]
  },
  {
   "cell_type": "code",
   "execution_count": 52,
   "metadata": {},
   "outputs": [
    {
     "name": "stderr",
     "output_type": "stream",
     "text": [
      "                                                                                \r"
     ]
    },
    {
     "data": {
      "text/html": [
       "<table border='1'>\n",
       "<tr><th>andar</th><th>area_total</th><th>area_util</th><th>banheiros</th><th>caracteristicas</th><th>bairro</th><th>cep</th><th>cidade</th><th>estado</th><th>latitude</th><th>longitude</th><th>pais</th><th>rua</th><th>zona</th><th>id_anuncio</th><th>quartos</th><th>suites</th><th>tipo_anuncio</th><th>tipo_unidade</th><th>tipo_uso</th><th>vaga</th><th>condominio</th><th>iptu</th><th>tipo</th><th>valor</th><th>imagens</th><th>id</th><th>nome</th></tr>\n",
       "<tr><td>0</td><td>[]</td><td>[16]</td><td>[0]</td><td>[]</td><td>Centro</td><td>20061003</td><td>Rio de Janeiro</td><td>Rio de Janeiro</td><td>-22.906082</td><td>-43.18671</td><td>BR</td><td>Rua Buenos Aires</td><td>Zona Central</td><td>47d553e0-79f2-4a4...</td><td>[0]</td><td>[0]</td><td>Usado</td><td>Outros</td><td>Comercial</td><td>[1]</td><td>[260]</td><td>[107]</td><td>[Venda]</td><td>[10000]</td><td>[{39d6282a-71f3-4...</td><td>9d44563d-3405-4e8...</td><td>Frank</td></tr>\n",
       "<tr><td>0</td><td>[]</td><td>[14]</td><td>[0]</td><td>[]</td><td>Centro</td><td>20051040</td><td>Rio de Janeiro</td><td>Rio de Janeiro</td><td>-22.902536</td><td>-43.18434</td><td>BR</td><td>Avenida Passos</td><td>Zona Central</td><td>b6ffbae1-17f6-487...</td><td>[0]</td><td>[]</td><td>Usado</td><td>Outros</td><td>Comercial</td><td>[0]</td><td>[260]</td><td>[107]</td><td>[Venda]</td><td>[10000]</td><td>[{23d2b3ab-45b0-4...</td><td>36245be7-70fe-40c...</td><td>Caroline</td></tr>\n",
       "<tr><td>0</td><td>[1026]</td><td>[1026]</td><td>[0]</td><td>[]</td><td>Maria da Graça</td><td>20785360</td><td>Rio de Janeiro</td><td>Rio de Janeiro</td><td>-22.885516</td><td>-43.269083</td><td>BR</td><td>Rua Luís de Brito</td><td>Zona Norte</td><td>1fb030a5-9e3e-4a1...</td><td>[0]</td><td>[]</td><td>Usado</td><td>Outros</td><td>Comercial</td><td>[0]</td><td>[null]</td><td>[1613]</td><td>[Venda]</td><td>[10000]</td><td>[{1da65baa-368b-4...</td><td>9dc415d8-1397-4d8...</td><td>Oliver</td></tr>\n",
       "</table>\n"
      ],
      "text/plain": [
       "+-----+----------+---------+---------+---------------+--------------+--------+--------------+--------------+----------+----------+----+-----------------+------------+--------------------+-------+------+------------+------------+---------+----+----------+------+-------+-------+--------------------+--------------------+--------+\n",
       "|andar|area_total|area_util|banheiros|caracteristicas|        bairro|     cep|        cidade|        estado|  latitude| longitude|pais|              rua|        zona|          id_anuncio|quartos|suites|tipo_anuncio|tipo_unidade| tipo_uso|vaga|condominio|  iptu|   tipo|  valor|             imagens|                  id|    nome|\n",
       "+-----+----------+---------+---------+---------------+--------------+--------+--------------+--------------+----------+----------+----+-----------------+------------+--------------------+-------+------+------------+------------+---------+----+----------+------+-------+-------+--------------------+--------------------+--------+\n",
       "|    0|        []|     [16]|      [0]|             []|        Centro|20061003|Rio de Janeiro|Rio de Janeiro|-22.906082| -43.18671|  BR| Rua Buenos Aires|Zona Central|47d553e0-79f2-4a4...|    [0]|   [0]|       Usado|      Outros|Comercial| [1]|     [260]| [107]|[Venda]|[10000]|[{39d6282a-71f3-4...|9d44563d-3405-4e8...|   Frank|\n",
       "|    0|        []|     [14]|      [0]|             []|        Centro|20051040|Rio de Janeiro|Rio de Janeiro|-22.902536| -43.18434|  BR|   Avenida Passos|Zona Central|b6ffbae1-17f6-487...|    [0]|    []|       Usado|      Outros|Comercial| [0]|     [260]| [107]|[Venda]|[10000]|[{23d2b3ab-45b0-4...|36245be7-70fe-40c...|Caroline|\n",
       "|    0|    [1026]|   [1026]|      [0]|             []|Maria da Graça|20785360|Rio de Janeiro|Rio de Janeiro|-22.885516|-43.269083|  BR|Rua Luís de Brito|  Zona Norte|1fb030a5-9e3e-4a1...|    [0]|    []|       Usado|      Outros|Comercial| [0]|    [null]|[1613]|[Venda]|[10000]|[{1da65baa-368b-4...|9dc415d8-1397-4d8...|  Oliver|\n",
       "+-----+----------+---------+---------+---------------+--------------+--------+--------------+--------------+----------+----------+----+-----------------+------------+--------------------+-------+------+------------+------------+---------+----+----------+------+-------+-------+--------------------+--------------------+--------+"
      ]
     },
     "execution_count": 52,
     "metadata": {},
     "output_type": "execute_result"
    }
   ],
   "source": [
    "# Explode nas colunas anuncio, usuario e salvando em novo df\n",
    "\n",
    "data_in_prepared = data.select(\n",
    "    'anuncio.andar',\n",
    "    'anuncio.area_total',\n",
    "    'anuncio.area_util',\n",
    "    'anuncio.banheiros',\n",
    "    'anuncio.caracteristicas',\n",
    "    'anuncio.endereco.*',\n",
    "    F.col('anuncio.id').alias('id_anuncio'),\n",
    "    'anuncio.quartos',\n",
    "    'anuncio.suites',\n",
    "    'anuncio.tipo_anuncio',\n",
    "    'anuncio.tipo_unidade',\n",
    "    'anuncio.tipo_uso',\n",
    "    'anuncio.vaga',\n",
    "    'anuncio.valores.condominio',\n",
    "    'anuncio.valores.iptu',\n",
    "    'anuncio.valores.tipo',\n",
    "    'anuncio.valores.valor',\n",
    "    'imagens',\n",
    "    'usuario.*'\n",
    " )\n",
    " \n",
    "data_in_prepared.limit(3)\n",
    "\n",
    "# +-----+----------+---------+---------+---------------------------------------+-----------------------------------------------------------------------------------------------------------------------------+------------------------------------+-------+------+------------+------------+-----------+----+----------------------------+--------------------------------------------------------------------------------------------------------------------------------------------------------------------------------------------------------------------------------------------------------------------------------------------------------------------------------------------------------------------------------------------------------------------------------------------------------------------------------------------------------------------------------------------------------------------------------------------------------+------------------------------------+--------+\n",
    "# |andar|area_total|area_util|banheiros|caracteristicas                        |endereco                                                                                                                     |id                                  |quartos|suites|tipo_anuncio|tipo_unidade|tipo_uso   |vaga|valores                     |imagens                                                                                                                                                                                                                                                                                                                                                                                                                                                                                                                                                                                                 |id                                  |nome    |\n",
    "# +-----+----------+---------+---------+---------------------------------------+-----------------------------------------------------------------------------------------------------------------------------+------------------------------------+-------+------+------------+------------+-----------+----+----------------------------+--------------------------------------------------------------------------------------------------------------------------------------------------------------------------------------------------------------------------------------------------------------------------------------------------------------------------------------------------------------------------------------------------------------------------------------------------------------------------------------------------------------------------------------------------------------------------------------------------------+------------------------------------+--------+\n",
    "# |0    |[]        |[16]     |[0]      |[]                                     |{Centro, 20061003, Rio de Janeiro, Rio de Janeiro, -22.906082, -43.18671, BR, Rua Buenos Aires, Zona Central}                |47d553e0-79f2-4a46-9390-5a3c962740c2|[0]    |[0]   |Usado       |Outros      |Comercial  |[1] |[{260, 107, Venda, 10000}]  |[{39d6282a-71f3-47bc-94aa-909351ecd881, https://api.images.insightplaces.com.br/{type}/{width}/{height}/1b08098d-f2dc-439c-b604-a4e50d12774b.jpg}]                                                                                                                                                                                                                                                                                                                                                                                                                                                      |9d44563d-3405-4e84-9381-35b7cf40a9a4|Frank   |\n",
    "# |0    |[]        |[14]     |[0]      |[]                                     |{Centro, 20051040, Rio de Janeiro, Rio de Janeiro, -22.902536, -43.18434, BR, Avenida Passos, Zona Central}                  |b6ffbae1-17f6-4870-9950-e998ac1c8d6a|[0]    |[]    |Usado       |Outros      |Comercial  |[0] |[{260, 107, Venda, 10000}]  |[{23d2b3ab-45b0-47f2-a27f-ffbe066c2c38, https://api.images.insightplaces.com.br/{type}/{width}/{height}/7a65b929-fe46-4a60-ae31-81faf2edb3c6.jpg}, {1b5f71f8-1aec-4b82-8d4c-67540d204a59, https://api.images.insightplaces.com.br/{type}/{width}/{height}/82e92d72-002a-4d3b-8063-16d4d65474b3.jpg}, {9bb11688-7dc9-48b9-bc1d-6a7a2dbcd553, https://api.images.insightplaces.com.br/{type}/{width}/{height}/23be0c2c-4c8f-4718-8126-6f160bb3efcc.jpg}, {1aaf6095-70bc-4f1f-87a4-fe3534a1bd2a, https://api.images.insightplaces.com.br/{type}/{width}/{height}/0ae382f4-b1ac-4ad9-b6cf-d9b4d7d01908.jpg}]|36245be7-70fe-40cd-84d4-70a57dc8f976|Caroline|\n",
    "# |0    |[1026]    |[1026]   |[0]      |[]                                     |{Maria da Graça, 20785360, Rio de Janeiro, Rio de Janeiro, -22.885516, -43.269083, BR, Rua Luís de Brito, Zona Norte}        |1fb030a5-9e3e-4a1d-93cd-cd2d8a215e11|[0]    |[]    |Usado       |Outros      |Comercial  |[0] |[{null, 1613, Venda, 10000}]|[{1da65baa-368b-490f-bef7-1834b9a428c1, https://api.images.insightplaces.com.br/{type}/{width}/{height}/b06fe423-6f18-43bb-b0e3-a569158885d2.jpg}]                                                                                                                                                                                                                                                                                                                                                                                                                                                      |9dc415d8-1397-4d8d-8425-b8310fad309d|Oliver  |\n",
    "# |0    |[120]     |[120]    |[0]      |[Portão eletrônico, Condomínio fechado]|{Campo Grande, 23095071, Rio de Janeiro, Rio de Janeiro, -22.885028, -43.561668, BR, Estrada Guandu do Sape, Zona Oeste}     |ac6cb348-69d6-45af-9589-dc34099370d8|[0]    |[]    |Usado       |Outros      |Residencial|[]  |[{80, null, Venda, 10000}]  |[{79b542c6-49b4-4f06-80b5-ef4fcdf98f76, https://api.images.insightplaces.com.br/{type}/{width}/{height}/b9688b1a-e6e8-4027-9368-d8298bc5ac40.jpg}]                                                                                                                                                                                                                                                                                                                                                                                                                                                      |9911a2df-f299-4a73-a384-281417abaf69|Matthew |\n",
    "# |0    |[3]       |[3]      |[0]      |[]                                     |{São Cristóvão, 20931670, Rio de Janeiro, Rio de Janeiro, -22.885912, -43.219296, BR, Rua Monsenhor Manuel Gomes, Zona Norte}|e032b908-ef42-4d4a-8125-eba4792bacbe|[0]    |[]    |Usado       |Outros      |Residencial|[]  |[{0, 0, Venda, 5000}]       |[{e2bc497b-6510-4731-8942-97b3d3cdab5e, https://api.images.insightplaces.com.br/{type}/{width}/{height}/bd7e2c54-8d10-4148-806d-0d656ff80fc2.jpg}]                                                                                                                                                                                                                                                                                                                                                                                                                                                      |240a7aab-12e5-4069-9a2c-9dca4c4f9c68|Jude    |\n",
    "# +-----+----------+---------+---------+---------------------------------------+-----------------------------------------------------------------------------------------------------------------------------+------------------------------------+-------+------+------------+------------+-----------+----+----------------------------+--------------------------------------------------------------------------------------------------------------------------------------------------------------------------------------------------------------------------------------------------------------------------------------------------------------------------------------------------------------------------------------------------------------------------------------------------------------------------------------------------------------------------------------------------------------------------------------------------------+------------------------------------+--------+"
   ]
  },
  {
   "cell_type": "code",
   "execution_count": 53,
   "metadata": {},
   "outputs": [
    {
     "name": "stderr",
     "output_type": "stream",
     "text": [
      "                                                                                \r"
     ]
    },
    {
     "data": {
      "text/html": [
       "<table border='1'>\n",
       "<tr><th>andar</th><th>area_total</th><th>area_util</th><th>banheiros</th><th>caracteristicas</th><th>bairro</th><th>cep</th><th>cidade</th><th>estado</th><th>latitude</th><th>longitude</th><th>pais</th><th>rua</th><th>zona</th><th>id_anuncio</th><th>quartos</th><th>suites</th><th>tipo_anuncio</th><th>tipo_unidade</th><th>tipo_uso</th><th>vaga</th><th>condominio</th><th>iptu</th><th>tipo</th><th>valor</th><th>imagens</th><th>id</th><th>nome</th></tr>\n",
       "<tr><td>0</td><td>null</td><td>16.0</td><td>0.0</td><td></td><td>Centro</td><td>20061003</td><td>Rio de Janeiro</td><td>Rio de Janeiro</td><td>-22.906082</td><td>-43.18671</td><td>BR</td><td>Rua Buenos Aires</td><td>Zona Central</td><td>47d553e0-79f2-4a4...</td><td>0.0</td><td>0.0</td><td>Usado</td><td>Outros</td><td>Comercial</td><td>1.0</td><td>260.0</td><td>107.0</td><td>Venda</td><td>10000.0</td><td>[{39d6282a-71f3-4...</td><td>9d44563d-3405-4e8...</td><td>Frank</td></tr>\n",
       "<tr><td>0</td><td>null</td><td>14.0</td><td>0.0</td><td></td><td>Centro</td><td>20051040</td><td>Rio de Janeiro</td><td>Rio de Janeiro</td><td>-22.902536</td><td>-43.18434</td><td>BR</td><td>Avenida Passos</td><td>Zona Central</td><td>b6ffbae1-17f6-487...</td><td>0.0</td><td>null</td><td>Usado</td><td>Outros</td><td>Comercial</td><td>0.0</td><td>260.0</td><td>107.0</td><td>Venda</td><td>10000.0</td><td>[{23d2b3ab-45b0-4...</td><td>36245be7-70fe-40c...</td><td>Caroline</td></tr>\n",
       "<tr><td>0</td><td>1026.0</td><td>1026.0</td><td>0.0</td><td></td><td>Maria da Graça</td><td>20785360</td><td>Rio de Janeiro</td><td>Rio de Janeiro</td><td>-22.885516</td><td>-43.269083</td><td>BR</td><td>Rua Luís de Brito</td><td>Zona Norte</td><td>1fb030a5-9e3e-4a1...</td><td>0.0</td><td>null</td><td>Usado</td><td>Outros</td><td>Comercial</td><td>0.0</td><td>null</td><td>1613.0</td><td>Venda</td><td>10000.0</td><td>[{1da65baa-368b-4...</td><td>9dc415d8-1397-4d8...</td><td>Oliver</td></tr>\n",
       "<tr><td>0</td><td>120.0</td><td>120.0</td><td>0.0</td><td>Portão eletrônico...</td><td>Campo Grande</td><td>23095071</td><td>Rio de Janeiro</td><td>Rio de Janeiro</td><td>-22.885028</td><td>-43.561668</td><td>BR</td><td>Estrada Guandu do...</td><td>Zona Oeste</td><td>ac6cb348-69d6-45a...</td><td>0.0</td><td>null</td><td>Usado</td><td>Outros</td><td>Residencial</td><td>null</td><td>80.0</td><td>null</td><td>Venda</td><td>10000.0</td><td>[{79b542c6-49b4-4...</td><td>9911a2df-f299-4a7...</td><td>Matthew</td></tr>\n",
       "<tr><td>0</td><td>3.0</td><td>3.0</td><td>0.0</td><td></td><td>São Cristóvão</td><td>20931670</td><td>Rio de Janeiro</td><td>Rio de Janeiro</td><td>-22.885912</td><td>-43.219296</td><td>BR</td><td>Rua Monsenhor Man...</td><td>Zona Norte</td><td>e032b908-ef42-4d4...</td><td>0.0</td><td>null</td><td>Usado</td><td>Outros</td><td>Residencial</td><td>null</td><td>0.0</td><td>0.0</td><td>Venda</td><td>5000.0</td><td>[{e2bc497b-6510-4...</td><td>240a7aab-12e5-406...</td><td>Jude</td></tr>\n",
       "</table>\n"
      ],
      "text/plain": [
       "+-----+----------+---------+---------+--------------------+--------------+--------+--------------+--------------+----------+----------+----+--------------------+------------+--------------------+-------+------+------------+------------+-----------+----+----------+------+-----+-------+--------------------+--------------------+--------+\n",
       "|andar|area_total|area_util|banheiros|     caracteristicas|        bairro|     cep|        cidade|        estado|  latitude| longitude|pais|                 rua|        zona|          id_anuncio|quartos|suites|tipo_anuncio|tipo_unidade|   tipo_uso|vaga|condominio|  iptu| tipo|  valor|             imagens|                  id|    nome|\n",
       "+-----+----------+---------+---------+--------------------+--------------+--------+--------------+--------------+----------+----------+----+--------------------+------------+--------------------+-------+------+------------+------------+-----------+----+----------+------+-----+-------+--------------------+--------------------+--------+\n",
       "|    0|      null|     16.0|      0.0|                    |        Centro|20061003|Rio de Janeiro|Rio de Janeiro|-22.906082| -43.18671|  BR|    Rua Buenos Aires|Zona Central|47d553e0-79f2-4a4...|    0.0|   0.0|       Usado|      Outros|  Comercial| 1.0|     260.0| 107.0|Venda|10000.0|[{39d6282a-71f3-4...|9d44563d-3405-4e8...|   Frank|\n",
       "|    0|      null|     14.0|      0.0|                    |        Centro|20051040|Rio de Janeiro|Rio de Janeiro|-22.902536| -43.18434|  BR|      Avenida Passos|Zona Central|b6ffbae1-17f6-487...|    0.0|  null|       Usado|      Outros|  Comercial| 0.0|     260.0| 107.0|Venda|10000.0|[{23d2b3ab-45b0-4...|36245be7-70fe-40c...|Caroline|\n",
       "|    0|    1026.0|   1026.0|      0.0|                    |Maria da Graça|20785360|Rio de Janeiro|Rio de Janeiro|-22.885516|-43.269083|  BR|   Rua Luís de Brito|  Zona Norte|1fb030a5-9e3e-4a1...|    0.0|  null|       Usado|      Outros|  Comercial| 0.0|      null|1613.0|Venda|10000.0|[{1da65baa-368b-4...|9dc415d8-1397-4d8...|  Oliver|\n",
       "|    0|     120.0|    120.0|      0.0|Portão eletrônico...|  Campo Grande|23095071|Rio de Janeiro|Rio de Janeiro|-22.885028|-43.561668|  BR|Estrada Guandu do...|  Zona Oeste|ac6cb348-69d6-45a...|    0.0|  null|       Usado|      Outros|Residencial|null|      80.0|  null|Venda|10000.0|[{79b542c6-49b4-4...|9911a2df-f299-4a7...| Matthew|\n",
       "|    0|       3.0|      3.0|      0.0|                    | São Cristóvão|20931670|Rio de Janeiro|Rio de Janeiro|-22.885912|-43.219296|  BR|Rua Monsenhor Man...|  Zona Norte|e032b908-ef42-4d4...|    0.0|  null|       Usado|      Outros|Residencial|null|       0.0|   0.0|Venda| 5000.0|[{e2bc497b-6510-4...|240a7aab-12e5-406...|    Jude|\n",
       "+-----+----------+---------+---------+--------------------+--------------+--------+--------------+--------------+----------+----------+----+--------------------+------------+--------------------+-------+------+------------+------------+-----------+----+----------+------+-----+-------+--------------------+--------------------+--------+"
      ]
     },
     "execution_count": 53,
     "metadata": {},
     "output_type": "execute_result"
    }
   ],
   "source": [
    "# Convertendo os tipos de dados\n",
    "\n",
    "data_in_prepared = (\n",
    "    data_in_prepared\n",
    "    .withColumn('area_total', F.concat_ws(',', F.col('area_total')).cast('double') )\n",
    "    .withColumn('area_util', F.concat_ws(',', F.col('area_util')).cast('double') )\n",
    "    .withColumn('banheiros', F.concat_ws(',', F.col('banheiros')).cast('double') )\n",
    "    .withColumn('caracteristicas', F.concat_ws(' - ', F.col('caracteristicas')) )\n",
    "    .withColumn('quartos', F.concat_ws(',', F.col('quartos')).cast('double') )\n",
    "    .withColumn('suites', F.concat_ws(',', F.col('suites')).cast('double') )\n",
    "    .withColumn('vaga', F.concat_ws(',', F.col('vaga')).cast('double') )\n",
    "    .withColumn('condominio', F.concat_ws(',', F.col('condominio')).cast('double') )\n",
    "    .withColumn('iptu', F.concat_ws(',', F.col('iptu')).cast('double') )\n",
    "    .withColumn('tipo', F.concat_ws(',', F.col('tipo')) )\n",
    "    .withColumn('valor', F.concat_ws(',', F.col('valor')).cast('double') )\n",
    "\n",
    ")\n",
    "\n",
    "data_in_prepared.limit(5)"
   ]
  },
  {
   "cell_type": "code",
   "execution_count": 54,
   "metadata": {},
   "outputs": [
    {
     "name": "stdout",
     "output_type": "stream",
     "text": [
      "root\n",
      " |-- andar: long (nullable = true)\n",
      " |-- area_total: double (nullable = true)\n",
      " |-- area_util: double (nullable = true)\n",
      " |-- banheiros: double (nullable = true)\n",
      " |-- caracteristicas: string (nullable = false)\n",
      " |-- bairro: string (nullable = true)\n",
      " |-- cep: string (nullable = true)\n",
      " |-- cidade: string (nullable = true)\n",
      " |-- estado: string (nullable = true)\n",
      " |-- latitude: double (nullable = true)\n",
      " |-- longitude: double (nullable = true)\n",
      " |-- pais: string (nullable = true)\n",
      " |-- rua: string (nullable = true)\n",
      " |-- zona: string (nullable = true)\n",
      " |-- id_anuncio: string (nullable = true)\n",
      " |-- quartos: double (nullable = true)\n",
      " |-- suites: double (nullable = true)\n",
      " |-- tipo_anuncio: string (nullable = true)\n",
      " |-- tipo_unidade: string (nullable = true)\n",
      " |-- tipo_uso: string (nullable = true)\n",
      " |-- vaga: double (nullable = true)\n",
      " |-- condominio: double (nullable = true)\n",
      " |-- iptu: double (nullable = true)\n",
      " |-- tipo: string (nullable = false)\n",
      " |-- valor: double (nullable = true)\n",
      " |-- imagens: array (nullable = true)\n",
      " |    |-- element: struct (containsNull = true)\n",
      " |    |    |-- id: string (nullable = true)\n",
      " |    |    |-- url: string (nullable = true)\n",
      " |-- id: string (nullable = true)\n",
      " |-- nome: string (nullable = true)\n",
      "\n"
     ]
    }
   ],
   "source": [
    "data_in_prepared.printSchema()"
   ]
  },
  {
   "cell_type": "markdown",
   "metadata": {},
   "source": [
    "### Salvando a base em formato Parquet"
   ]
  },
  {
   "cell_type": "code",
   "execution_count": 55,
   "metadata": {},
   "outputs": [
    {
     "name": "stderr",
     "output_type": "stream",
     "text": [
      "                                                                                \r"
     ]
    }
   ],
   "source": [
    "data_in_prepared.write.mode('overwrite').parquet('./data/data_in_prepared')"
   ]
  },
  {
   "cell_type": "markdown",
   "metadata": {},
   "source": [
    "### Lendo a base em formato Parquet"
   ]
  },
  {
   "cell_type": "code",
   "execution_count": 56,
   "metadata": {},
   "outputs": [],
   "source": [
    "# Novo inicio de partida para as analises\n",
    "\n",
    "data_in_prepared = (\n",
    "    spark.read.format('parquet')\n",
    "    .load('data/data_in_prepared/')\n",
    ")"
   ]
  },
  {
   "cell_type": "markdown",
   "metadata": {},
   "source": [
    "O time de Data Science solicitou que fizéssemos alguns filtros nas colunas tipo_uso, tipo_unidade e tipo_anuncio da nossa base de dados:\n",
    "\n",
    "- tipo_uso: Residencial;\n",
    "- tipo_unidade: Apartamento;\n",
    "- tipo_anuncio: Usado."
   ]
  },
  {
   "cell_type": "markdown",
   "metadata": {},
   "source": [
    "Verificando as frequências das colunas das colunas selecionadas antes de filtrá-las."
   ]
  },
  {
   "cell_type": "code",
   "execution_count": 57,
   "metadata": {},
   "outputs": [],
   "source": [
    "colunas_frequencia = ['tipo_uso', 'tipo_unidade', 'tipo_anuncio']"
   ]
  },
  {
   "cell_type": "code",
   "execution_count": 58,
   "metadata": {},
   "outputs": [],
   "source": [
    "data_select_tmp = (\n",
    "    data_in_prepared.select(colunas_frequencia)\n",
    ")"
   ]
  },
  {
   "cell_type": "code",
   "execution_count": 59,
   "metadata": {},
   "outputs": [
    {
     "name": "stdout",
     "output_type": "stream",
     "text": [
      "+-----------+-----+\n",
      "|   tipo_uso|count|\n",
      "+-----------+-----+\n",
      "|  Comercial| 4542|\n",
      "|Residencial|84541|\n",
      "+-----------+-----+\n",
      "\n",
      "+------------+-----+\n",
      "|tipo_unidade|count|\n",
      "+------------+-----+\n",
      "|      Outros|11963|\n",
      "| Apartamento|66801|\n",
      "|        Casa|10319|\n",
      "+------------+-----+\n",
      "\n",
      "+------------+-----+\n",
      "|tipo_anuncio|count|\n",
      "+------------+-----+\n",
      "|       Usado|88827|\n",
      "|  Lançamento|  256|\n",
      "+------------+-----+\n",
      "\n"
     ]
    }
   ],
   "source": [
    "for c in colunas_frequencia:\n",
    "    print(data_in_prepared.groupBy(c).count())\n"
   ]
  },
  {
   "cell_type": "code",
   "execution_count": 60,
   "metadata": {},
   "outputs": [],
   "source": [
    "def count_unique_records(df: DataFrame)->None:\n",
    "    df.agg(*(F.countDistinct(F.col(c)).alias(c) for c in df.columns)).show()"
   ]
  },
  {
   "cell_type": "code",
   "execution_count": 61,
   "metadata": {},
   "outputs": [
    {
     "name": "stdout",
     "output_type": "stream",
     "text": [
      "+--------+------------+------------+\n",
      "|tipo_uso|tipo_unidade|tipo_anuncio|\n",
      "+--------+------------+------------+\n",
      "|       2|           3|           2|\n",
      "+--------+------------+------------+\n",
      "\n"
     ]
    }
   ],
   "source": [
    "count_unique_records(data_select_tmp)"
   ]
  },
  {
   "cell_type": "code",
   "execution_count": 62,
   "metadata": {},
   "outputs": [],
   "source": [
    "# Desconsiderando a variável temporário\n",
    "\n",
    "data_select_tmp = None"
   ]
  },
  {
   "cell_type": "code",
   "execution_count": 63,
   "metadata": {},
   "outputs": [],
   "source": [
    "# Efetuando o Filtro\n",
    "\n",
    "data_in_prepared = (\n",
    "    data_in_prepared.where(\n",
    "        (data_in_prepared.tipo_uso == 'Residencial') \n",
    "        & (data_in_prepared.tipo_unidade == 'Apartamento')\n",
    "        & (data_in_prepared.tipo_anuncio == 'Usado')\n",
    "    )\n",
    ")"
   ]
  },
  {
   "cell_type": "code",
   "execution_count": 64,
   "metadata": {},
   "outputs": [],
   "source": [
    "'''A equipe de ciência de dados nos solicitou que apenas as informações \n",
    "sobre bairro e zona da cidade fossem extraídas.\n",
    "\n",
    "Então, vamos analisar a coluna endereço e transformar apenas as \n",
    "informações sobre bairro e zona em colunas de nosso DataFrame.\n",
    "'''\n",
    "\n",
    "data_in_prepared = (\n",
    "    data_in_prepared\n",
    "    .drop('cep')\n",
    "    .drop('cidade')\n",
    "    .drop('estado')\n",
    "    .drop('latitude')\n",
    "    .drop('longitude')\n",
    "    .drop('pais')\n",
    "    .drop('rua')\n",
    ")"
   ]
  },
  {
   "cell_type": "code",
   "execution_count": 66,
   "metadata": {},
   "outputs": [
    {
     "data": {
      "text/html": [
       "<table border='1'>\n",
       "<tr><th>andar</th><th>area_total</th><th>area_util</th><th>banheiros</th><th>caracteristicas</th><th>bairro</th><th>zona</th><th>id_anuncio</th><th>quartos</th><th>suites</th><th>tipo_anuncio</th><th>tipo_unidade</th><th>tipo_uso</th><th>vaga</th><th>condominio</th><th>iptu</th><th>tipo</th><th>valor</th><th>imagens</th><th>id</th><th>nome</th></tr>\n",
       "<tr><td>3</td><td>43.0</td><td>43.0</td><td>1.0</td><td>Academia - Churra...</td><td>Paciência</td><td>Zona Oeste</td><td>d2e3a3aa-09b5-45a...</td><td>2.0</td><td>null</td><td>Usado</td><td>Apartamento</td><td>Residencial</td><td>1.0</td><td>245.0</td><td>null</td><td>Venda</td><td>15000.0</td><td>[{147a80d9-cd40-4...</td><td>5a9736b5-aaa0-4a3...</td><td>Hope</td></tr>\n",
       "<tr><td>2</td><td>42.0</td><td>42.0</td><td>1.0</td><td>Churrasqueira - P...</td><td>Paciência</td><td>Zona Oeste</td><td>085bab2c-87ad-452...</td><td>2.0</td><td>null</td><td>Usado</td><td>Apartamento</td><td>Residencial</td><td>1.0</td><td>0.0</td><td>0.0</td><td>Venda</td><td>15000.0</td><td>[{35740004-063d-4...</td><td>ec48d96a-137c-49d...</td><td>Margareth</td></tr>\n",
       "<tr><td>1</td><td>41.0</td><td>41.0</td><td>1.0</td><td>Portaria 24h - Co...</td><td>Guaratiba</td><td>Zona Oeste</td><td>18d22cbe-1b86-476...</td><td>2.0</td><td>null</td><td>Usado</td><td>Apartamento</td><td>Residencial</td><td>1.0</td><td>0.0</td><td>0.0</td><td>Venda</td><td>20000.0</td><td>[{3d404069-418e-4...</td><td>a845f35f-3ab3-461...</td><td>Nicole</td></tr>\n",
       "<tr><td>3</td><td>43.0</td><td>43.0</td><td>1.0</td><td>Churrasqueira - P...</td><td>Cosmos</td><td>Zona Oeste</td><td>bed8a354-9317-442...</td><td>2.0</td><td>null</td><td>Usado</td><td>Apartamento</td><td>Residencial</td><td>0.0</td><td>285.0</td><td>null</td><td>Venda</td><td>20000.0</td><td>[{5b8a8de7-2088-4...</td><td>8c8de313-45d5-4cc...</td><td>Bradley</td></tr>\n",
       "<tr><td>2</td><td>43.0</td><td>43.0</td><td>1.0</td><td>Academia - Churra...</td><td>Guaratiba</td><td>Zona Oeste</td><td>12a13315-d67f-48f...</td><td>2.0</td><td>null</td><td>Usado</td><td>Apartamento</td><td>Residencial</td><td>1.0</td><td>245.0</td><td>null</td><td>Venda</td><td>15000.0</td><td>[{3fe1c1cc-7a9c-4...</td><td>7f2de69f-68f8-404...</td><td>Duncan</td></tr>\n",
       "<tr><td>3</td><td>43.0</td><td>43.0</td><td>1.0</td><td>Churrasqueira - P...</td><td>Cosmos</td><td>Zona Oeste</td><td>a2e6d7a5-0ff0-484...</td><td>2.0</td><td>0.0</td><td>Usado</td><td>Apartamento</td><td>Residencial</td><td>0.0</td><td>285.0</td><td>null</td><td>Venda</td><td>20000.0</td><td>[{fd04f07d-cfdf-4...</td><td>12ce772e-4aac-46b...</td><td>Mia</td></tr>\n",
       "<tr><td>3</td><td>43.0</td><td>43.0</td><td>1.0</td><td>Churrasqueira - P...</td><td>Paciência</td><td>Zona Oeste</td><td>a6e3173b-c950-4db...</td><td>2.0</td><td>null</td><td>Usado</td><td>Apartamento</td><td>Residencial</td><td>1.0</td><td>250.0</td><td>null</td><td>Venda</td><td>15000.0</td><td>[{76f97b59-a61b-4...</td><td>cc17fc2c-6be2-4e5...</td><td>Brooke</td></tr>\n",
       "<tr><td>3</td><td>43.0</td><td>43.0</td><td>1.0</td><td>Churrasqueira - P...</td><td>Guaratiba</td><td>Zona Oeste</td><td>2e6e5dfb-206c-496...</td><td>2.0</td><td>0.0</td><td>Usado</td><td>Apartamento</td><td>Residencial</td><td>1.0</td><td>245.0</td><td>null</td><td>Venda</td><td>15000.0</td><td>[{95d9678e-491f-4...</td><td>286649de-3099-4cc...</td><td>Declan</td></tr>\n",
       "<tr><td>3</td><td>43.0</td><td>43.0</td><td>1.0</td><td>Churrasqueira - P...</td><td>Paciência</td><td>Zona Oeste</td><td>99f8d0f9-95a4-461...</td><td>2.0</td><td>0.0</td><td>Usado</td><td>Apartamento</td><td>Residencial</td><td>1.0</td><td>245.0</td><td>null</td><td>Venda</td><td>15000.0</td><td>[{0d1373a1-db17-4...</td><td>8ae860f6-a230-4bd...</td><td>Natalie</td></tr>\n",
       "<tr><td>4</td><td>43.0</td><td>43.0</td><td>1.0</td><td>Churrasqueira - P...</td><td>Guaratiba</td><td>Zona Oeste</td><td>b3f44c1a-2d50-4d5...</td><td>2.0</td><td>null</td><td>Usado</td><td>Apartamento</td><td>Residencial</td><td>1.0</td><td>240.0</td><td>null</td><td>Venda</td><td>17999.0</td><td>[{ab0eae8a-5b02-4...</td><td>b1e82c1e-f55d-483...</td><td>Carly</td></tr>\n",
       "</table>\n"
      ],
      "text/plain": [
       "+-----+----------+---------+---------+--------------------+---------+----------+--------------------+-------+------+------------+------------+-----------+----+----------+----+-----+-------+--------------------+--------------------+---------+\n",
       "|andar|area_total|area_util|banheiros|     caracteristicas|   bairro|      zona|          id_anuncio|quartos|suites|tipo_anuncio|tipo_unidade|   tipo_uso|vaga|condominio|iptu| tipo|  valor|             imagens|                  id|     nome|\n",
       "+-----+----------+---------+---------+--------------------+---------+----------+--------------------+-------+------+------------+------------+-----------+----+----------+----+-----+-------+--------------------+--------------------+---------+\n",
       "|    3|      43.0|     43.0|      1.0|Academia - Churra...|Paciência|Zona Oeste|d2e3a3aa-09b5-45a...|    2.0|  null|       Usado| Apartamento|Residencial| 1.0|     245.0|null|Venda|15000.0|[{147a80d9-cd40-4...|5a9736b5-aaa0-4a3...|     Hope|\n",
       "|    2|      42.0|     42.0|      1.0|Churrasqueira - P...|Paciência|Zona Oeste|085bab2c-87ad-452...|    2.0|  null|       Usado| Apartamento|Residencial| 1.0|       0.0| 0.0|Venda|15000.0|[{35740004-063d-4...|ec48d96a-137c-49d...|Margareth|\n",
       "|    1|      41.0|     41.0|      1.0|Portaria 24h - Co...|Guaratiba|Zona Oeste|18d22cbe-1b86-476...|    2.0|  null|       Usado| Apartamento|Residencial| 1.0|       0.0| 0.0|Venda|20000.0|[{3d404069-418e-4...|a845f35f-3ab3-461...|   Nicole|\n",
       "|    3|      43.0|     43.0|      1.0|Churrasqueira - P...|   Cosmos|Zona Oeste|bed8a354-9317-442...|    2.0|  null|       Usado| Apartamento|Residencial| 0.0|     285.0|null|Venda|20000.0|[{5b8a8de7-2088-4...|8c8de313-45d5-4cc...|  Bradley|\n",
       "|    2|      43.0|     43.0|      1.0|Academia - Churra...|Guaratiba|Zona Oeste|12a13315-d67f-48f...|    2.0|  null|       Usado| Apartamento|Residencial| 1.0|     245.0|null|Venda|15000.0|[{3fe1c1cc-7a9c-4...|7f2de69f-68f8-404...|   Duncan|\n",
       "|    3|      43.0|     43.0|      1.0|Churrasqueira - P...|   Cosmos|Zona Oeste|a2e6d7a5-0ff0-484...|    2.0|   0.0|       Usado| Apartamento|Residencial| 0.0|     285.0|null|Venda|20000.0|[{fd04f07d-cfdf-4...|12ce772e-4aac-46b...|      Mia|\n",
       "|    3|      43.0|     43.0|      1.0|Churrasqueira - P...|Paciência|Zona Oeste|a6e3173b-c950-4db...|    2.0|  null|       Usado| Apartamento|Residencial| 1.0|     250.0|null|Venda|15000.0|[{76f97b59-a61b-4...|cc17fc2c-6be2-4e5...|   Brooke|\n",
       "|    3|      43.0|     43.0|      1.0|Churrasqueira - P...|Guaratiba|Zona Oeste|2e6e5dfb-206c-496...|    2.0|   0.0|       Usado| Apartamento|Residencial| 1.0|     245.0|null|Venda|15000.0|[{95d9678e-491f-4...|286649de-3099-4cc...|   Declan|\n",
       "|    3|      43.0|     43.0|      1.0|Churrasqueira - P...|Paciência|Zona Oeste|99f8d0f9-95a4-461...|    2.0|   0.0|       Usado| Apartamento|Residencial| 1.0|     245.0|null|Venda|15000.0|[{0d1373a1-db17-4...|8ae860f6-a230-4bd...|  Natalie|\n",
       "|    4|      43.0|     43.0|      1.0|Churrasqueira - P...|Guaratiba|Zona Oeste|b3f44c1a-2d50-4d5...|    2.0|  null|       Usado| Apartamento|Residencial| 1.0|     240.0|null|Venda|17999.0|[{ab0eae8a-5b02-4...|b1e82c1e-f55d-483...|    Carly|\n",
       "+-----+----------+---------+---------+--------------------+---------+----------+--------------------+-------+------+------------+------------+-----------+----+----------+----+-----+-------+--------------------+--------------------+---------+"
      ]
     },
     "execution_count": 66,
     "metadata": {},
     "output_type": "execute_result"
    }
   ],
   "source": [
    "data_in_prepared.limit(10)"
   ]
  }
 ],
 "metadata": {
  "kernelspec": {
   "display_name": "Python 3.10.6 ('.venv': venv)",
   "language": "python",
   "name": "python3"
  },
  "language_info": {
   "codemirror_mode": {
    "name": "ipython",
    "version": 3
   },
   "file_extension": ".py",
   "mimetype": "text/x-python",
   "name": "python",
   "nbconvert_exporter": "python",
   "pygments_lexer": "ipython3",
   "version": "3.10.6"
  },
  "orig_nbformat": 4,
  "vscode": {
   "interpreter": {
    "hash": "23b8461584f00431a2a8cf1d1f30f1155c0d1760103e4a24546e7884c2038306"
   }
  }
 },
 "nbformat": 4,
 "nbformat_minor": 2
}
