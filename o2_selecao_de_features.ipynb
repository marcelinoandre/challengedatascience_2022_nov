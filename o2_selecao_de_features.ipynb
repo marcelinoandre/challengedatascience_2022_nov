{
 "cells": [
  {
   "cell_type": "markdown",
   "metadata": {},
   "source": [
    "# Challenge Data Science\n",
    "\n",
    "Desafio [Alura](https://www.alura.com.br/) -  Um projeto de Data Science com PySpark"
   ]
  },
  {
   "attachments": {},
   "cell_type": "markdown",
   "metadata": {},
   "source": [
    "\n",
    "##  Semana 02"
   ]
  },
  {
   "cell_type": "markdown",
   "metadata": {},
   "source": [
    "### Imports e carregamento dos Dados"
   ]
  },
  {
   "cell_type": "code",
   "execution_count": 1,
   "metadata": {},
   "outputs": [],
   "source": [
    "from pyspark.sql import(\n",
    "    SparkSession, \n",
    "    functions as F,\n",
    "    DataFrame\n",
    ") \n",
    "import utils"
   ]
  },
  {
   "cell_type": "code",
   "execution_count": 2,
   "metadata": {},
   "outputs": [
    {
     "name": "stdout",
     "output_type": "stream",
     "text": [
      "22/12/12 20:55:21 WARN Utils: Your hostname, lenovo-pessoal resolves to a loopback address: 127.0.1.1; using 192.168.0.233 instead (on interface wlp0s20f3)\n",
      "22/12/12 20:55:21 WARN Utils: Set SPARK_LOCAL_IP if you need to bind to another address\n"
     ]
    },
    {
     "name": "stderr",
     "output_type": "stream",
     "text": [
      "Setting default log level to \"WARN\".\n",
      "To adjust logging level use sc.setLogLevel(newLevel). For SparkR, use setLogLevel(newLevel).\n"
     ]
    },
    {
     "name": "stdout",
     "output_type": "stream",
     "text": [
      "22/12/12 20:55:32 WARN NativeCodeLoader: Unable to load native-hadoop library for your platform... using builtin-java classes where applicable\n",
      "22/12/12 20:55:32 WARN Utils: Service 'SparkUI' could not bind on port 4040. Attempting port 4041.\n"
     ]
    },
    {
     "data": {
      "text/html": [
       "\n",
       "            <div>\n",
       "                <p><b>SparkSession - in-memory</b></p>\n",
       "                \n",
       "        <div>\n",
       "            <p><b>SparkContext</b></p>\n",
       "\n",
       "            <p><a href=\"http://192.168.0.233:4041\">Spark UI</a></p>\n",
       "\n",
       "            <dl>\n",
       "              <dt>Version</dt>\n",
       "                <dd><code>v3.3.1</code></dd>\n",
       "              <dt>Master</dt>\n",
       "                <dd><code>local[*]</code></dd>\n",
       "              <dt>AppName</dt>\n",
       "                <dd><code>InsightPlaces-Semana_02</code></dd>\n",
       "            </dl>\n",
       "        </div>\n",
       "        \n",
       "            </div>\n",
       "        "
      ],
      "text/plain": [
       "<pyspark.sql.session.SparkSession at 0x7f2124524940>"
      ]
     },
     "execution_count": 2,
     "metadata": {},
     "output_type": "execute_result"
    }
   ],
   "source": [
    "spark = (\n",
    "    SparkSession\n",
    "    .builder\n",
    "    .appName('InsightPlaces-Semana_02')\n",
    "    .getOrCreate()\n",
    ")\n",
    "\n",
    "spark"
   ]
  },
  {
   "cell_type": "code",
   "execution_count": 3,
   "metadata": {},
   "outputs": [],
   "source": [
    "data_imoveis = (\n",
    "    spark.read.format('parquet')\n",
    "    .load('data/semana_02/dataset_tratado/')\n",
    ")\n"
   ]
  },
  {
   "cell_type": "markdown",
   "metadata": {},
   "source": [
    "### Exploração dos Dados"
   ]
  },
  {
   "cell_type": "code",
   "execution_count": 4,
   "metadata": {},
   "outputs": [
    {
     "name": "stdout",
     "output_type": "stream",
     "text": [
      "+-----+----------+---------+---------+--------------------+---------+----------+--------------------+-------+------+------------+------------+-----------+----+----------+----+-----+-------+\n",
      "|andar|area_total|area_util|banheiros|     caracteristicas|   bairro|      zona|          id_anuncio|quartos|suites|tipo_anuncio|tipo_unidade|   tipo_uso|vaga|condominio|iptu| tipo|  valor|\n",
      "+-----+----------+---------+---------+--------------------+---------+----------+--------------------+-------+------+------------+------------+-----------+----+----------+----+-----+-------+\n",
      "|    3|      43.0|     43.0|      1.0|Academia - Churra...|Paciência|Zona Oeste|d2e3a3aa-09b5-45a...|    2.0|  null|       Usado| Apartamento|Residencial| 1.0|     245.0|null|Venda|15000.0|\n",
      "|    2|      42.0|     42.0|      1.0|Churrasqueira - P...|Paciência|Zona Oeste|085bab2c-87ad-452...|    2.0|  null|       Usado| Apartamento|Residencial| 1.0|       0.0| 0.0|Venda|15000.0|\n",
      "|    1|      41.0|     41.0|      1.0|Portaria 24h - Co...|Guaratiba|Zona Oeste|18d22cbe-1b86-476...|    2.0|  null|       Usado| Apartamento|Residencial| 1.0|       0.0| 0.0|Venda|20000.0|\n",
      "|    3|      43.0|     43.0|      1.0|Churrasqueira - P...|   Cosmos|Zona Oeste|bed8a354-9317-442...|    2.0|  null|       Usado| Apartamento|Residencial| 0.0|     285.0|null|Venda|20000.0|\n",
      "|    2|      43.0|     43.0|      1.0|Academia - Churra...|Guaratiba|Zona Oeste|12a13315-d67f-48f...|    2.0|  null|       Usado| Apartamento|Residencial| 1.0|     245.0|null|Venda|15000.0|\n",
      "+-----+----------+---------+---------+--------------------+---------+----------+--------------------+-------+------+------------+------------+-----------+----+----------+----+-----+-------+\n",
      "only showing top 5 rows\n",
      "\n"
     ]
    }
   ],
   "source": [
    "data_imoveis.show(5)"
   ]
  },
  {
   "cell_type": "code",
   "execution_count": 5,
   "metadata": {},
   "outputs": [
    {
     "name": "stdout",
     "output_type": "stream",
     "text": [
      "+------------+-----+\n",
      "|        zona|count|\n",
      "+------------+-----+\n",
      "|  Zona Norte|11897|\n",
      "|  Zona Oeste|32979|\n",
      "|Zona Central| 1144|\n",
      "|    Zona Sul|20531|\n",
      "|            |   11|\n",
      "+------------+-----+\n",
      "\n"
     ]
    }
   ],
   "source": [
    "data_imoveis.groupBy('zona').count().show()"
   ]
  },
  {
   "cell_type": "code",
   "execution_count": 6,
   "metadata": {},
   "outputs": [
    {
     "name": "stdout",
     "output_type": "stream",
     "text": [
      "root\n",
      " |-- andar: long (nullable = true)\n",
      " |-- area_util: double (nullable = true)\n",
      " |-- banheiros: double (nullable = true)\n",
      " |-- caracteristicas: string (nullable = true)\n",
      " |-- bairro: string (nullable = true)\n",
      " |-- zona: string (nullable = true)\n",
      " |-- id_anuncio: string (nullable = true)\n",
      " |-- quartos: double (nullable = true)\n",
      " |-- suites: double (nullable = true)\n",
      " |-- vaga: double (nullable = true)\n",
      " |-- condominio: double (nullable = true)\n",
      " |-- iptu: double (nullable = true)\n",
      " |-- tipo: string (nullable = true)\n",
      " |-- valor: double (nullable = true)\n",
      "\n",
      "+-----+---------+---------+--------------------+---------+----------+--------------------+-------+------+----+----------+----+-----+-------+\n",
      "|andar|area_util|banheiros|     caracteristicas|   bairro|      zona|          id_anuncio|quartos|suites|vaga|condominio|iptu| tipo|  valor|\n",
      "+-----+---------+---------+--------------------+---------+----------+--------------------+-------+------+----+----------+----+-----+-------+\n",
      "|    3|     43.0|      1.0|Academia - Churra...|Paciência|Zona Oeste|d2e3a3aa-09b5-45a...|    2.0|  null| 1.0|     245.0|null|Venda|15000.0|\n",
      "|    2|     42.0|      1.0|Churrasqueira - P...|Paciência|Zona Oeste|085bab2c-87ad-452...|    2.0|  null| 1.0|       0.0| 0.0|Venda|15000.0|\n",
      "|    1|     41.0|      1.0|Portaria 24h - Co...|Guaratiba|Zona Oeste|18d22cbe-1b86-476...|    2.0|  null| 1.0|       0.0| 0.0|Venda|20000.0|\n",
      "|    3|     43.0|      1.0|Churrasqueira - P...|   Cosmos|Zona Oeste|bed8a354-9317-442...|    2.0|  null| 0.0|     285.0|null|Venda|20000.0|\n",
      "|    2|     43.0|      1.0|Academia - Churra...|Guaratiba|Zona Oeste|12a13315-d67f-48f...|    2.0|  null| 1.0|     245.0|null|Venda|15000.0|\n",
      "+-----+---------+---------+--------------------+---------+----------+--------------------+-------+------+----+----------+----+-----+-------+\n",
      "only showing top 5 rows\n",
      "\n"
     ]
    }
   ],
   "source": [
    "''' Deletando colunas tipo_anuncio, tipo_unidade e tipo_uso, pois cada uma\n",
    "delas possuem valores únicos.\n",
    "\n",
    "As Colunas area_total e area_util praticamente são iguais e por isso apenas\n",
    "uma delas será mantida no dataFrame.\n",
    "\n",
    "'''\n",
    "\n",
    "data_imoveis = (\n",
    "    data_imoveis\n",
    "    .drop('tipo_anuncio')\n",
    "    .drop('tipo_unidade')\n",
    "    .drop('tipo_uso')\n",
    "    .drop('area_total')\n",
    ")\n",
    "\n",
    "\n",
    "data_imoveis.printSchema()\n",
    "data_imoveis.show(5)"
   ]
  },
  {
   "cell_type": "code",
   "execution_count": 7,
   "metadata": {},
   "outputs": [
    {
     "name": "stdout",
     "output_type": "stream",
     "text": [
      "+---------------------------------------------------------------------------------------------------------------------------------------------------------+\n",
      "|caracteristicas                                                                                                                                          |\n",
      "+---------------------------------------------------------------------------------------------------------------------------------------------------------+\n",
      "|Churrasqueira - Condomínio fechado - Portão eletrônico                                                                                                   |\n",
      "|Playground - Condomínio fechado - Portaria 24h - Animais permitidos                                                                                      |\n",
      "|Piscina - Academia - Churrasqueira - Playground - Elevador - Condomínio fechado - Portão eletrônico - Portaria 24h - Animais permitidos                  |\n",
      "|Elevador - Playground - Piscina - Salão de festas - Condomínio fechado - Portão eletrônico - Portaria 24h - Animais permitidos                           |\n",
      "|Playground - Piscina - Elevador - Condomínio fechado - Portão eletrônico - Portaria 24h - Animais permitidos                                             |\n",
      "|Salão de festas - Piscina - Academia - Animais permitidos - Portaria 24h - Elevador - Condomínio fechado                                                 |\n",
      "|Academia - Piscina - Elevador - Condomínio fechado - Animais permitidos                                                                                  |\n",
      "|Academia - Elevador - Salão de festas - Piscina - Playground - Churrasqueira - Portaria 24h - Condomínio fechado - Portão eletrônico - Animais permitidos|\n",
      "|Salão de festas - Playground - Piscina - Churrasqueira - Condomínio fechado - Portão eletrônico - Portaria 24h - Animais permitidos                      |\n",
      "|Churrasqueira - Elevador - Piscina - Salão de festas - Portão eletrônico - Portaria 24h - Animais permitidos                                             |\n",
      "+---------------------------------------------------------------------------------------------------------------------------------------------------------+\n",
      "only showing top 10 rows\n",
      "\n"
     ]
    }
   ],
   "source": [
    "data_imoveis.select('caracteristicas').distinct().show(10, truncate=False)\n",
    "\n",
    "# 6975"
   ]
  },
  {
   "cell_type": "markdown",
   "metadata": {},
   "source": [
    "#### Tratamento da coluna caracteristicas\n",
    "\n",
    "A colluna caracteristicas tem é uma string com itens separados por ' - ', desta forma será montado um dataframe apenas com está coluna para em seguida agrupar e exibir cada palavra unica"
   ]
  },
  {
   "cell_type": "code",
   "execution_count": 8,
   "metadata": {},
   "outputs": [],
   "source": [
    "df_caracteristicas = data_imoveis.select('caracteristicas').distinct()"
   ]
  },
  {
   "cell_type": "code",
   "execution_count": 9,
   "metadata": {},
   "outputs": [],
   "source": [
    "words = df_caracteristicas.select(F.explode( F.split(df_caracteristicas.caracteristicas, ' - ') ).alias('word') )\n",
    "\n",
    "# 48149"
   ]
  },
  {
   "cell_type": "code",
   "execution_count": 10,
   "metadata": {},
   "outputs": [
    {
     "name": "stdout",
     "output_type": "stream",
     "text": [
      "+------------------+-----+\n",
      "|              word|count|\n",
      "+------------------+-----+\n",
      "|Condomínio fechado| 5557|\n",
      "|        Playground| 4839|\n",
      "| Portão eletrônico| 3859|\n",
      "|           Piscina| 5016|\n",
      "|Animais permitidos| 4555|\n",
      "|      Portaria 24h| 4278|\n",
      "|          Elevador| 5710|\n",
      "|          Academia| 4328|\n",
      "|   Salão de festas| 5407|\n",
      "|                  |    1|\n",
      "|     Churrasqueira| 4599|\n",
      "+------------------+-----+\n",
      "\n"
     ]
    }
   ],
   "source": [
    "# Palavras unicas da coluna característica\n",
    "\n",
    "words.groupBy('word').count().show()"
   ]
  },
  {
   "attachments": {},
   "cell_type": "markdown",
   "metadata": {},
   "source": [
    "#### Adicionando features"
   ]
  },
  {
   "cell_type": "code",
   "execution_count": 11,
   "metadata": {},
   "outputs": [
    {
     "name": "stdout",
     "output_type": "stream",
     "text": [
      "+-----+---------+---------+--------------------+---------+----------+--------------------+-------+------+----+----------+----+-----+-------+------------------+----------+-----------------+-------+---------------+------------+--------+--------+--------------+-------------+\n",
      "|andar|area_util|banheiros|     caracteristicas|   bairro|      zona|          id_anuncio|quartos|suites|vaga|condominio|iptu| tipo|  valor|condominio_fechado|playground|portao_eletronico|piscina|permite_animais|portaria_24h|elevador|academia|salao_de_festa|churrasqueira|\n",
      "+-----+---------+---------+--------------------+---------+----------+--------------------+-------+------+----+----------+----+-----+-------+------------------+----------+-----------------+-------+---------------+------------+--------+--------+--------------+-------------+\n",
      "|    3|     43.0|      1.0|Academia - Churra...|Paciência|Zona Oeste|d2e3a3aa-09b5-45a...|    2.0|  null| 1.0|     245.0|null|Venda|15000.0|                 1|         1|                1|      0|              1|           1|       0|       1|             1|            1|\n",
      "|    2|     42.0|      1.0|Churrasqueira - P...|Paciência|Zona Oeste|085bab2c-87ad-452...|    2.0|  null| 1.0|       0.0| 0.0|Venda|15000.0|                 1|         1|                1|      0|              1|           1|       0|       0|             1|            1|\n",
      "|    1|     41.0|      1.0|Portaria 24h - Co...|Guaratiba|Zona Oeste|18d22cbe-1b86-476...|    2.0|  null| 1.0|       0.0| 0.0|Venda|20000.0|                 1|         1|                1|      0|              0|           1|       0|       0|             1|            1|\n",
      "|    3|     43.0|      1.0|Churrasqueira - P...|   Cosmos|Zona Oeste|bed8a354-9317-442...|    2.0|  null| 0.0|     285.0|null|Venda|20000.0|                 1|         1|                1|      1|              1|           1|       0|       0|             1|            1|\n",
      "|    2|     43.0|      1.0|Academia - Churra...|Guaratiba|Zona Oeste|12a13315-d67f-48f...|    2.0|  null| 1.0|     245.0|null|Venda|15000.0|                 1|         1|                1|      0|              1|           1|       0|       1|             1|            1|\n",
      "+-----+---------+---------+--------------------+---------+----------+--------------------+-------+------+----+----------+----+-----+-------+------------------+----------+-----------------+-------+---------------+------------+--------+--------+--------------+-------------+\n",
      "only showing top 5 rows\n",
      "\n"
     ]
    }
   ],
   "source": [
    "data_imoveis = (\n",
    "    data_imoveis\n",
    "    .withColumn('condominio_fechado', F.when(data_imoveis.caracteristicas.like('%Condomínio fechado%'), 1 ).otherwise(0) )\n",
    "    .withColumn('playground', F.when(data_imoveis.caracteristicas.like('%Playground%'), 1 ).otherwise(0) )\n",
    "    .withColumn('portao_eletronico', F.when(data_imoveis.caracteristicas.like('%Portão eletrônico%'), 1 ).otherwise(0) )\n",
    "    .withColumn('piscina', F.when(data_imoveis.caracteristicas.like('%Piscina%'), 1 ).otherwise(0) )\n",
    "    .withColumn('permite_animais', F.when(data_imoveis.caracteristicas.like('%Animais permitidos%'), 1 ).otherwise(0) )\n",
    "    .withColumn('portaria_24h', F.when(data_imoveis.caracteristicas.like('%Portaria 24h%'), 1 ).otherwise(0) )\n",
    "    .withColumn('elevador', F.when(data_imoveis.caracteristicas.like('%Elevador%'), 1 ).otherwise(0) )\n",
    "    .withColumn('academia', F.when(data_imoveis.caracteristicas.like('%Academia%'), 1 ).otherwise(0) )\n",
    "    .withColumn('salao_de_festa', F.when(data_imoveis.caracteristicas.like('%Salão de festas%'), 1 ).otherwise(0) )\n",
    "    .withColumn('churrasqueira', F.when(data_imoveis.caracteristicas.like('%Churrasqueira%'), 1 ).otherwise(0) )\n",
    ")\n",
    "\n",
    "data_imoveis.show(5)\n",
    "# +-----+---------+---------+--------------------+---------+----------+--------------------+-------+------+----+----------+----+-----+-------+------------------+----------+-----------------+-------+---------------+------------+--------+--------+--------------+-------------+\n",
    "# |andar|area_util|banheiros|     caracteristicas|   bairro|      zona|          id_anuncio|quartos|suites|vaga|condominio|iptu| tipo|  valor|condominio_fechado|playground|portao_eletronico|piscina|permite_animais|portaria_24h|elevador|academia|salao_de_festa|churrasqueira|\n",
    "# +-----+---------+---------+--------------------+---------+----------+--------------------+-------+------+----+----------+----+-----+-------+------------------+----------+-----------------+-------+---------------+------------+--------+--------+--------------+-------------+\n",
    "# |    3|     43.0|      1.0|Academia - Churra...|Paciência|Zona Oeste|d2e3a3aa-09b5-45a...|    2.0|  null| 1.0|     245.0|null|Venda|15000.0|                 1|         1|                1|      0|              1|           1|       0|       1|             1|            1|\n",
    "# |    2|     42.0|      1.0|Churrasqueira - P...|Paciência|Zona Oeste|085bab2c-87ad-452...|    2.0|  null| 1.0|       0.0| 0.0|Venda|15000.0|                 1|         1|                1|      0|              1|           1|       0|       0|             1|            1|\n",
    "# |    1|     41.0|      1.0|Portaria 24h - Co...|Guaratiba|Zona Oeste|18d22cbe-1b86-476...|    2.0|  null| 1.0|       0.0| 0.0|Venda|20000.0|                 1|         1|                1|      0|              0|           1|       0|       0|             1|            1|\n",
    "# |    3|     43.0|      1.0|Churrasqueira - P...|   Cosmos|Zona Oeste|bed8a354-9317-442...|    2.0|  null| 0.0|     285.0|null|Venda|20000.0|                 1|         1|                1|      1|              1|           1|       0|       0|             1|            1|\n",
    "# |    2|     43.0|      1.0|Academia - Churra...|Guaratiba|Zona Oeste|12a13315-d67f-48f...|    2.0|  null| 1.0|     245.0|null|Venda|15000.0|                 1|         1|                1|      0|              1|           1|       0|       1|             1|            1|\n",
    "# +-----+---------+---------+--------------------+---------+----------+--------------------+-------+------+----+----------+----+-----+-------+------------------+----------+-----------------+-------+---------------+------------+--------+--------+--------------+-------------+"
   ]
  },
  {
   "cell_type": "code",
   "execution_count": 12,
   "metadata": {},
   "outputs": [
    {
     "name": "stdout",
     "output_type": "stream",
     "text": [
      "+----------+-----+\n",
      "|playground|count|\n",
      "+----------+-----+\n",
      "|         1|31856|\n",
      "|         0|34706|\n",
      "+----------+-----+\n",
      "\n"
     ]
    }
   ],
   "source": [
    "data_imoveis.select('playground').groupBy('playground').count().show()"
   ]
  },
  {
   "attachments": {},
   "cell_type": "markdown",
   "metadata": {},
   "source": [
    "#### Tratando dados nulos e NaN's"
   ]
  },
  {
   "cell_type": "code",
   "execution_count": null,
   "metadata": {},
   "outputs": [],
   "source": []
  }
 ],
 "metadata": {
  "kernelspec": {
   "display_name": "Python 3.10.6 ('.venv': venv)",
   "language": "python",
   "name": "python3"
  },
  "language_info": {
   "codemirror_mode": {
    "name": "ipython",
    "version": 3
   },
   "file_extension": ".py",
   "mimetype": "text/x-python",
   "name": "python",
   "nbconvert_exporter": "python",
   "pygments_lexer": "ipython3",
   "version": "3.10.7 (main, Nov 24 2022, 19:45:47) [GCC 12.2.0]"
  },
  "orig_nbformat": 4,
  "vscode": {
   "interpreter": {
    "hash": "23b8461584f00431a2a8cf1d1f30f1155c0d1760103e4a24546e7884c2038306"
   }
  }
 },
 "nbformat": 4,
 "nbformat_minor": 2
}
