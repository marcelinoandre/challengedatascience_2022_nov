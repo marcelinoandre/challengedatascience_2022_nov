{
 "cells": [
  {
   "attachments": {},
   "cell_type": "markdown",
   "metadata": {},
   "source": [
    "# Challenge Data Science\n",
    "\n",
    "[Desafio Alura](https://www.alura.com.br/challenges/data-science-2/semana-03-04-criando-modelo-recomendacao-pyspark?utm_source=ActiveCampaign&utm_medium=email&utm_content=%5BChallenge+Data+Science%5D+T%C3%A1+no+ar%2C++FIRSTNAME&utm_campaign=%5BChallenges%5D+%28Dados+2a+ed+%29+Libera%C3%A7%C3%A3o+da+aula+03e04+%2B+convite+live+code+review&vgo_ee=m974RDr6G5JExwnAIqDaXAA3SuMkJhmkGexv49sZvNU%3D) -  Um projeto de Data Science com PySpark"
   ]
  },
  {
   "attachments": {},
   "cell_type": "markdown",
   "metadata": {},
   "source": [
    "\n",
    "##  Semana 02"
   ]
  },
  {
   "cell_type": "markdown",
   "metadata": {},
   "source": [
    "### Imports e carregamento dos Dados"
   ]
  },
  {
   "cell_type": "code",
   "execution_count": 126,
   "metadata": {},
   "outputs": [],
   "source": [
    "from pyspark.sql import(\n",
    "    SparkSession, \n",
    "    functions as F,\n",
    "    DataFrame\n",
    ") \n",
    "from pyspark.ml.feature import RFormula\n",
    "from pyspark.ml.regression import (\n",
    "    LinearRegression,\n",
    "     DecisionTreeRegressor,\n",
    "     RandomForestRegressor\n",
    ")\n",
    "\n",
    "import utils"
   ]
  },
  {
   "cell_type": "code",
   "execution_count": 127,
   "metadata": {},
   "outputs": [
    {
     "data": {
      "text/html": [
       "\n",
       "            <div>\n",
       "                <p><b>SparkSession - in-memory</b></p>\n",
       "                \n",
       "        <div>\n",
       "            <p><b>SparkContext</b></p>\n",
       "\n",
       "            <p><a href=\"http://192.168.0.233:4040\">Spark UI</a></p>\n",
       "\n",
       "            <dl>\n",
       "              <dt>Version</dt>\n",
       "                <dd><code>v3.3.1</code></dd>\n",
       "              <dt>Master</dt>\n",
       "                <dd><code>local[*]</code></dd>\n",
       "              <dt>AppName</dt>\n",
       "                <dd><code>InsightPlaces-Semana_02</code></dd>\n",
       "            </dl>\n",
       "        </div>\n",
       "        \n",
       "            </div>\n",
       "        "
      ],
      "text/plain": [
       "<pyspark.sql.session.SparkSession at 0x7f417b7e25c0>"
      ]
     },
     "execution_count": 127,
     "metadata": {},
     "output_type": "execute_result"
    }
   ],
   "source": [
    "spark = (\n",
    "    SparkSession\n",
    "    .builder\n",
    "    .appName('InsightPlaces-Semana_02')\n",
    "    .getOrCreate()\n",
    ")\n",
    "\n",
    "spark"
   ]
  },
  {
   "cell_type": "code",
   "execution_count": 128,
   "metadata": {},
   "outputs": [],
   "source": [
    "data_imoveis = (\n",
    "    spark.read.format('parquet')\n",
    "    .load('data/semana_02/dataset_tratado/')\n",
    ")\n"
   ]
  },
  {
   "cell_type": "markdown",
   "metadata": {},
   "source": [
    "### Exploração dos Dados"
   ]
  },
  {
   "cell_type": "code",
   "execution_count": 129,
   "metadata": {},
   "outputs": [
    {
     "name": "stdout",
     "output_type": "stream",
     "text": [
      "+-----+----------+---------+---------+--------------------+---------+----------+--------------------+-------+------+------------+------------+-----------+----+----------+----+-----+-------+\n",
      "|andar|area_total|area_util|banheiros|     caracteristicas|   bairro|      zona|          id_anuncio|quartos|suites|tipo_anuncio|tipo_unidade|   tipo_uso|vaga|condominio|iptu| tipo|  valor|\n",
      "+-----+----------+---------+---------+--------------------+---------+----------+--------------------+-------+------+------------+------------+-----------+----+----------+----+-----+-------+\n",
      "|    3|      43.0|     43.0|      1.0|Academia - Churra...|Paciência|Zona Oeste|d2e3a3aa-09b5-45a...|    2.0|  null|       Usado| Apartamento|Residencial| 1.0|     245.0|null|Venda|15000.0|\n",
      "|    2|      42.0|     42.0|      1.0|Churrasqueira - P...|Paciência|Zona Oeste|085bab2c-87ad-452...|    2.0|  null|       Usado| Apartamento|Residencial| 1.0|       0.0| 0.0|Venda|15000.0|\n",
      "|    1|      41.0|     41.0|      1.0|Portaria 24h - Co...|Guaratiba|Zona Oeste|18d22cbe-1b86-476...|    2.0|  null|       Usado| Apartamento|Residencial| 1.0|       0.0| 0.0|Venda|20000.0|\n",
      "|    3|      43.0|     43.0|      1.0|Churrasqueira - P...|   Cosmos|Zona Oeste|bed8a354-9317-442...|    2.0|  null|       Usado| Apartamento|Residencial| 0.0|     285.0|null|Venda|20000.0|\n",
      "|    2|      43.0|     43.0|      1.0|Academia - Churra...|Guaratiba|Zona Oeste|12a13315-d67f-48f...|    2.0|  null|       Usado| Apartamento|Residencial| 1.0|     245.0|null|Venda|15000.0|\n",
      "+-----+----------+---------+---------+--------------------+---------+----------+--------------------+-------+------+------------+------------+-----------+----+----------+----+-----+-------+\n",
      "only showing top 5 rows\n",
      "\n"
     ]
    }
   ],
   "source": [
    "data_imoveis.show(5)"
   ]
  },
  {
   "cell_type": "code",
   "execution_count": 130,
   "metadata": {},
   "outputs": [
    {
     "name": "stdout",
     "output_type": "stream",
     "text": [
      "66562 18\n"
     ]
    }
   ],
   "source": [
    "print(data_imoveis.count(), len(data_imoveis.columns))"
   ]
  },
  {
   "cell_type": "code",
   "execution_count": 131,
   "metadata": {},
   "outputs": [
    {
     "name": "stdout",
     "output_type": "stream",
     "text": [
      "+------------+-----+\n",
      "|        zona|count|\n",
      "+------------+-----+\n",
      "|  Zona Norte|11897|\n",
      "|  Zona Oeste|32979|\n",
      "|Zona Central| 1144|\n",
      "|    Zona Sul|20531|\n",
      "|            |   11|\n",
      "+------------+-----+\n",
      "\n"
     ]
    }
   ],
   "source": [
    "data_imoveis.groupBy('zona').count().show()"
   ]
  },
  {
   "cell_type": "code",
   "execution_count": 132,
   "metadata": {},
   "outputs": [
    {
     "name": "stdout",
     "output_type": "stream",
     "text": [
      "root\n",
      " |-- andar: long (nullable = true)\n",
      " |-- area_util: double (nullable = true)\n",
      " |-- banheiros: double (nullable = true)\n",
      " |-- caracteristicas: string (nullable = true)\n",
      " |-- bairro: string (nullable = true)\n",
      " |-- zona: string (nullable = true)\n",
      " |-- id_anuncio: string (nullable = true)\n",
      " |-- quartos: double (nullable = true)\n",
      " |-- suites: double (nullable = true)\n",
      " |-- vaga: double (nullable = true)\n",
      " |-- condominio: double (nullable = true)\n",
      " |-- iptu: double (nullable = true)\n",
      " |-- tipo: string (nullable = true)\n",
      " |-- valor: double (nullable = true)\n",
      "\n",
      "+-----+---------+---------+--------------------+---------+----------+--------------------+-------+------+----+----------+----+-----+-------+\n",
      "|andar|area_util|banheiros|     caracteristicas|   bairro|      zona|          id_anuncio|quartos|suites|vaga|condominio|iptu| tipo|  valor|\n",
      "+-----+---------+---------+--------------------+---------+----------+--------------------+-------+------+----+----------+----+-----+-------+\n",
      "|    3|     43.0|      1.0|Academia - Churra...|Paciência|Zona Oeste|d2e3a3aa-09b5-45a...|    2.0|  null| 1.0|     245.0|null|Venda|15000.0|\n",
      "|    2|     42.0|      1.0|Churrasqueira - P...|Paciência|Zona Oeste|085bab2c-87ad-452...|    2.0|  null| 1.0|       0.0| 0.0|Venda|15000.0|\n",
      "|    1|     41.0|      1.0|Portaria 24h - Co...|Guaratiba|Zona Oeste|18d22cbe-1b86-476...|    2.0|  null| 1.0|       0.0| 0.0|Venda|20000.0|\n",
      "|    3|     43.0|      1.0|Churrasqueira - P...|   Cosmos|Zona Oeste|bed8a354-9317-442...|    2.0|  null| 0.0|     285.0|null|Venda|20000.0|\n",
      "|    2|     43.0|      1.0|Academia - Churra...|Guaratiba|Zona Oeste|12a13315-d67f-48f...|    2.0|  null| 1.0|     245.0|null|Venda|15000.0|\n",
      "+-----+---------+---------+--------------------+---------+----------+--------------------+-------+------+----+----------+----+-----+-------+\n",
      "only showing top 5 rows\n",
      "\n"
     ]
    }
   ],
   "source": [
    "''' Deletando colunas tipo_anuncio, tipo_unidade e tipo_uso, pois cada uma\n",
    "delas possuem valores únicos.\n",
    "\n",
    "As Colunas area_total e area_util praticamente são iguais e por isso apenas\n",
    "uma delas será mantida no dataFrame.\n",
    "\n",
    "'''\n",
    "\n",
    "data_imoveis = (\n",
    "    data_imoveis\n",
    "    .drop('tipo_anuncio')\n",
    "    .drop('tipo_unidade')\n",
    "    .drop('tipo_uso')\n",
    "    .drop('area_total')\n",
    ")\n",
    "\n",
    "\n",
    "data_imoveis.printSchema()\n",
    "data_imoveis.show(5)"
   ]
  },
  {
   "cell_type": "code",
   "execution_count": 133,
   "metadata": {},
   "outputs": [
    {
     "name": "stdout",
     "output_type": "stream",
     "text": [
      "+---------------------------------------------------------------------------------------------------------------------------------------------------------+\n",
      "|caracteristicas                                                                                                                                          |\n",
      "+---------------------------------------------------------------------------------------------------------------------------------------------------------+\n",
      "|Churrasqueira - Condomínio fechado - Portão eletrônico                                                                                                   |\n",
      "|Playground - Condomínio fechado - Portaria 24h - Animais permitidos                                                                                      |\n",
      "|Piscina - Academia - Churrasqueira - Playground - Elevador - Condomínio fechado - Portão eletrônico - Portaria 24h - Animais permitidos                  |\n",
      "|Elevador - Playground - Piscina - Salão de festas - Condomínio fechado - Portão eletrônico - Portaria 24h - Animais permitidos                           |\n",
      "|Playground - Piscina - Elevador - Condomínio fechado - Portão eletrônico - Portaria 24h - Animais permitidos                                             |\n",
      "|Salão de festas - Piscina - Academia - Animais permitidos - Portaria 24h - Elevador - Condomínio fechado                                                 |\n",
      "|Academia - Piscina - Elevador - Condomínio fechado - Animais permitidos                                                                                  |\n",
      "|Academia - Elevador - Salão de festas - Piscina - Playground - Churrasqueira - Portaria 24h - Condomínio fechado - Portão eletrônico - Animais permitidos|\n",
      "|Salão de festas - Playground - Piscina - Churrasqueira - Condomínio fechado - Portão eletrônico - Portaria 24h - Animais permitidos                      |\n",
      "|Churrasqueira - Elevador - Piscina - Salão de festas - Portão eletrônico - Portaria 24h - Animais permitidos                                             |\n",
      "+---------------------------------------------------------------------------------------------------------------------------------------------------------+\n",
      "only showing top 10 rows\n",
      "\n"
     ]
    }
   ],
   "source": [
    "data_imoveis.select('caracteristicas').distinct().show(10, truncate=False)\n",
    "\n",
    "# 6975"
   ]
  },
  {
   "cell_type": "markdown",
   "metadata": {},
   "source": [
    "#### Tratamento da coluna caracteristicas\n",
    "\n",
    "A colluna caracteristicas tem é uma string com itens separados por ' - ', desta forma será montado um dataframe apenas com está coluna para em seguida agrupar e exibir cada palavra unica"
   ]
  },
  {
   "cell_type": "code",
   "execution_count": 134,
   "metadata": {},
   "outputs": [],
   "source": [
    "df_caracteristicas = data_imoveis.select('caracteristicas').distinct()"
   ]
  },
  {
   "cell_type": "code",
   "execution_count": 135,
   "metadata": {},
   "outputs": [],
   "source": [
    "words = df_caracteristicas.select(F.explode( F.split(df_caracteristicas.caracteristicas, ' - ') ).alias('word') )\n",
    "\n",
    "# 48149"
   ]
  },
  {
   "cell_type": "code",
   "execution_count": 136,
   "metadata": {},
   "outputs": [
    {
     "name": "stdout",
     "output_type": "stream",
     "text": [
      "+------------------+-----+\n",
      "|              word|count|\n",
      "+------------------+-----+\n",
      "|Condomínio fechado| 5557|\n",
      "|        Playground| 4839|\n",
      "| Portão eletrônico| 3859|\n",
      "|           Piscina| 5016|\n",
      "|Animais permitidos| 4555|\n",
      "|      Portaria 24h| 4278|\n",
      "|          Elevador| 5710|\n",
      "|          Academia| 4328|\n",
      "|   Salão de festas| 5407|\n",
      "|                  |    1|\n",
      "|     Churrasqueira| 4599|\n",
      "+------------------+-----+\n",
      "\n"
     ]
    }
   ],
   "source": [
    "# Palavras unicas da coluna característica\n",
    "\n",
    "words.groupBy('word').count().show()"
   ]
  },
  {
   "attachments": {},
   "cell_type": "markdown",
   "metadata": {},
   "source": [
    "#### Adicionando features"
   ]
  },
  {
   "cell_type": "code",
   "execution_count": 137,
   "metadata": {},
   "outputs": [
    {
     "name": "stdout",
     "output_type": "stream",
     "text": [
      "+-----+---------+---------+--------------------+---------+----------+--------------------+-------+------+----+----------+----+-----+-------+------------------+----------+-----------------+-------+---------------+------------+--------+--------+--------------+-------------+----------+------------+--------------------+\n",
      "|andar|area_util|banheiros|     caracteristicas|   bairro|      zona|          id_anuncio|quartos|suites|vaga|condominio|iptu| tipo|  valor|condominio_fechado|playground|portao_eletronico|piscina|permite_animais|portaria_24h|elevador|academia|salao_de_festa|churrasqueira|tipo_venda|tipo_aluguel|tipo_aluguel_e_venda|\n",
      "+-----+---------+---------+--------------------+---------+----------+--------------------+-------+------+----+----------+----+-----+-------+------------------+----------+-----------------+-------+---------------+------------+--------+--------+--------------+-------------+----------+------------+--------------------+\n",
      "|    3|     43.0|      1.0|Academia - Churra...|Paciência|Zona Oeste|d2e3a3aa-09b5-45a...|    2.0|  null| 1.0|     245.0|null|Venda|15000.0|                 1|         1|                1|      0|              1|           1|       0|       1|             1|            1|         1|           0|                   0|\n",
      "|    2|     42.0|      1.0|Churrasqueira - P...|Paciência|Zona Oeste|085bab2c-87ad-452...|    2.0|  null| 1.0|       0.0| 0.0|Venda|15000.0|                 1|         1|                1|      0|              1|           1|       0|       0|             1|            1|         1|           0|                   0|\n",
      "|    1|     41.0|      1.0|Portaria 24h - Co...|Guaratiba|Zona Oeste|18d22cbe-1b86-476...|    2.0|  null| 1.0|       0.0| 0.0|Venda|20000.0|                 1|         1|                1|      0|              0|           1|       0|       0|             1|            1|         1|           0|                   0|\n",
      "|    3|     43.0|      1.0|Churrasqueira - P...|   Cosmos|Zona Oeste|bed8a354-9317-442...|    2.0|  null| 0.0|     285.0|null|Venda|20000.0|                 1|         1|                1|      1|              1|           1|       0|       0|             1|            1|         1|           0|                   0|\n",
      "|    2|     43.0|      1.0|Academia - Churra...|Guaratiba|Zona Oeste|12a13315-d67f-48f...|    2.0|  null| 1.0|     245.0|null|Venda|15000.0|                 1|         1|                1|      0|              1|           1|       0|       1|             1|            1|         1|           0|                   0|\n",
      "+-----+---------+---------+--------------------+---------+----------+--------------------+-------+------+----+----------+----+-----+-------+------------------+----------+-----------------+-------+---------------+------------+--------+--------+--------------+-------------+----------+------------+--------------------+\n",
      "only showing top 5 rows\n",
      "\n"
     ]
    }
   ],
   "source": [
    "data_imoveis = (\n",
    "    data_imoveis\n",
    "    .withColumn('condominio_fechado', F.when(data_imoveis.caracteristicas.like('%Condomínio fechado%'), 1 ).otherwise(0) )\n",
    "    .withColumn('playground', F.when(data_imoveis.caracteristicas.like('%Playground%'), 1 ).otherwise(0) )\n",
    "    .withColumn('portao_eletronico', F.when(data_imoveis.caracteristicas.like('%Portão eletrônico%'), 1 ).otherwise(0) )\n",
    "    .withColumn('piscina', F.when(data_imoveis.caracteristicas.like('%Piscina%'), 1 ).otherwise(0) )\n",
    "    .withColumn('permite_animais', F.when(data_imoveis.caracteristicas.like('%Animais permitidos%'), 1 ).otherwise(0) )\n",
    "    .withColumn('portaria_24h', F.when(data_imoveis.caracteristicas.like('%Portaria 24h%'), 1 ).otherwise(0) )\n",
    "    .withColumn('elevador', F.when(data_imoveis.caracteristicas.like('%Elevador%'), 1 ).otherwise(0) )\n",
    "    .withColumn('academia', F.when(data_imoveis.caracteristicas.like('%Academia%'), 1 ).otherwise(0) )\n",
    "    .withColumn('salao_de_festa', F.when(data_imoveis.caracteristicas.like('%Salão de festas%'), 1 ).otherwise(0) )\n",
    "    .withColumn('churrasqueira', F.when(data_imoveis.caracteristicas.like('%Churrasqueira%'), 1 ).otherwise(0) )\n",
    "\n",
    "    .withColumn('tipo_venda', F.when(data_imoveis.tipo.like('%Venda%'), 1 ).otherwise(0) )\n",
    "    .withColumn('tipo_aluguel', F.when(data_imoveis.tipo.like('%Aluguel%'), 1 ).otherwise(0) )\n",
    "    .withColumn('tipo_aluguel_e_venda', F.when((data_imoveis.tipo.like('%Aluguel%') & (data_imoveis.tipo.like('%Venda%')) ), 1 ).otherwise(0) )\n",
    "\n",
    "\n",
    ")\n",
    "\n",
    "data_imoveis.show(5)\n",
    "# +-----+---------+---------+--------------------+---------+----------+--------------------+-------+------+----+----------+----+-----+-------+------------------+----------+-----------------+-------+---------------+------------+--------+--------+--------------+-------------+\n",
    "# |andar|area_util|banheiros|     caracteristicas|   bairro|      zona|          id_anuncio|quartos|suites|vaga|condominio|iptu| tipo|  valor|condominio_fechado|playground|portao_eletronico|piscina|permite_animais|portaria_24h|elevador|academia|salao_de_festa|churrasqueira|\n",
    "# +-----+---------+---------+--------------------+---------+----------+--------------------+-------+------+----+----------+----+-----+-------+------------------+----------+-----------------+-------+---------------+------------+--------+--------+--------------+-------------+\n",
    "# |    3|     43.0|      1.0|Academia - Churra...|Paciência|Zona Oeste|d2e3a3aa-09b5-45a...|    2.0|  null| 1.0|     245.0|null|Venda|15000.0|                 1|         1|                1|      0|              1|           1|       0|       1|             1|            1|\n",
    "# |    2|     42.0|      1.0|Churrasqueira - P...|Paciência|Zona Oeste|085bab2c-87ad-452...|    2.0|  null| 1.0|       0.0| 0.0|Venda|15000.0|                 1|         1|                1|      0|              1|           1|       0|       0|             1|            1|\n",
    "# |    1|     41.0|      1.0|Portaria 24h - Co...|Guaratiba|Zona Oeste|18d22cbe-1b86-476...|    2.0|  null| 1.0|       0.0| 0.0|Venda|20000.0|                 1|         1|                1|      0|              0|           1|       0|       0|             1|            1|\n",
    "# |    3|     43.0|      1.0|Churrasqueira - P...|   Cosmos|Zona Oeste|bed8a354-9317-442...|    2.0|  null| 0.0|     285.0|null|Venda|20000.0|                 1|         1|                1|      1|              1|           1|       0|       0|             1|            1|\n",
    "# |    2|     43.0|      1.0|Academia - Churra...|Guaratiba|Zona Oeste|12a13315-d67f-48f...|    2.0|  null| 1.0|     245.0|null|Venda|15000.0|                 1|         1|                1|      0|              1|           1|       0|       1|             1|            1|\n",
    "# +-----+---------+---------+--------------------+---------+----------+--------------------+-------+------+----+----------+----+-----+-------+------------------+----------+-----------------+-------+---------------+------------+--------+--------+--------------+-------------+"
   ]
  },
  {
   "cell_type": "code",
   "execution_count": 138,
   "metadata": {},
   "outputs": [
    {
     "name": "stdout",
     "output_type": "stream",
     "text": [
      "+----------+-----+\n",
      "|playground|count|\n",
      "+----------+-----+\n",
      "|         1|31856|\n",
      "|         0|34706|\n",
      "+----------+-----+\n",
      "\n"
     ]
    }
   ],
   "source": [
    "data_imoveis.select('playground').groupBy('playground').count().show()"
   ]
  },
  {
   "attachments": {},
   "cell_type": "markdown",
   "metadata": {},
   "source": [
    "#### Tratando dados nulos e NaN's"
   ]
  },
  {
   "cell_type": "code",
   "execution_count": 139,
   "metadata": {},
   "outputs": [],
   "source": [
    "# Explicitando a coluna label e deletando a coluna id_anuncio\n",
    "\n",
    "data_imoveis = data_imoveis.withColumnRenamed('valor', 'label').drop('id_anuncio').drop('caracteristicas')"
   ]
  },
  {
   "cell_type": "code",
   "execution_count": 140,
   "metadata": {},
   "outputs": [
    {
     "name": "stdout",
     "output_type": "stream",
     "text": [
      "-RECORD 0--------------------\n",
      " andar                | 0    \n",
      " area_util            | 0    \n",
      " banheiros            | 0    \n",
      " bairro               | 0    \n",
      " zona                 | 11   \n",
      " quartos              | 0    \n",
      " suites               | 5554 \n",
      " vaga                 | 3017 \n",
      " condominio           | 2944 \n",
      " iptu                 | 7741 \n",
      " tipo                 | 0    \n",
      " label                | 621  \n",
      " condominio_fechado   | 0    \n",
      " playground           | 0    \n",
      " portao_eletronico    | 0    \n",
      " piscina              | 0    \n",
      " permite_animais      | 0    \n",
      " portaria_24h         | 0    \n",
      " elevador             | 0    \n",
      " academia             | 0    \n",
      " salao_de_festa       | 0    \n",
      " churrasqueira        | 0    \n",
      " tipo_venda           | 0    \n",
      " tipo_aluguel         | 0    \n",
      " tipo_aluguel_e_venda | 0    \n",
      "\n"
     ]
    }
   ],
   "source": [
    "utils.get_count_columns_null_and_empty_values(data_imoveis, True)"
   ]
  },
  {
   "cell_type": "code",
   "execution_count": 141,
   "metadata": {},
   "outputs": [],
   "source": [
    "# substituindo os valores nulos\n",
    "data_imoveis = (\n",
    "    data_imoveis\n",
    "    .withColumn('suites', F.when(data_imoveis.suites.isNull(), 0).otherwise(data_imoveis.suites) )\n",
    "    .withColumn('vaga', F.when(data_imoveis.vaga.isNull(), 0).otherwise(data_imoveis.vaga) )\n",
    "    .withColumn('condominio', F.when(data_imoveis.condominio.isNull(), 0).otherwise(data_imoveis.condominio) )\n",
    "    .withColumn('iptu', F.when(data_imoveis.iptu.isNull(), 0).otherwise(data_imoveis.iptu) )\n",
    "    .withColumn('label', F.when(data_imoveis.label.isNull(), 1294610.18).otherwise(data_imoveis.label) )\n",
    "    .withColumn('zona', F.when((data_imoveis.zona.isNull()) | (data_imoveis.zona == '') , 'sem zona').otherwise(data_imoveis.zona) )\n",
    ")"
   ]
  },
  {
   "cell_type": "code",
   "execution_count": 142,
   "metadata": {},
   "outputs": [
    {
     "name": "stdout",
     "output_type": "stream",
     "text": [
      "-RECORD 0-------------------\n",
      " andar                | 0   \n",
      " area_util            | 0   \n",
      " banheiros            | 0   \n",
      " bairro               | 0   \n",
      " zona                 | 0   \n",
      " quartos              | 0   \n",
      " suites               | 0   \n",
      " vaga                 | 0   \n",
      " condominio           | 0   \n",
      " iptu                 | 0   \n",
      " tipo                 | 0   \n",
      " label                | 0   \n",
      " condominio_fechado   | 0   \n",
      " playground           | 0   \n",
      " portao_eletronico    | 0   \n",
      " piscina              | 0   \n",
      " permite_animais      | 0   \n",
      " portaria_24h         | 0   \n",
      " elevador             | 0   \n",
      " academia             | 0   \n",
      " salao_de_festa       | 0   \n",
      " churrasqueira        | 0   \n",
      " tipo_venda           | 0   \n",
      " tipo_aluguel         | 0   \n",
      " tipo_aluguel_e_venda | 0   \n",
      "\n"
     ]
    }
   ],
   "source": [
    "utils.get_count_columns_null_and_empty_values(data_imoveis, True)"
   ]
  },
  {
   "attachments": {},
   "cell_type": "markdown",
   "metadata": {},
   "source": [
    "#### Preparação dos dados para Machine Learning"
   ]
  },
  {
   "cell_type": "code",
   "execution_count": 143,
   "metadata": {},
   "outputs": [],
   "source": [
    "\n",
    "data_imoveis = data_imoveis.drop('tipo').drop('bairro')"
   ]
  },
  {
   "cell_type": "code",
   "execution_count": 146,
   "metadata": {},
   "outputs": [],
   "source": [
    "data_imoveis.write.mode('overwrite').parquet('data/semana_02/dataset_para_ml')"
   ]
  },
  {
   "cell_type": "code",
   "execution_count": 144,
   "metadata": {},
   "outputs": [],
   "source": [
    "df_final = RFormula(\n",
    "    formula='label~.',\n",
    "    featuresCol='features'\n",
    ").fit(data_imoveis).transform(data_imoveis).select('label', 'features')"
   ]
  },
  {
   "cell_type": "code",
   "execution_count": 145,
   "metadata": {},
   "outputs": [
    {
     "name": "stdout",
     "output_type": "stream",
     "text": [
      "+-------+---------------------------------------------------------------------------------------------------------------+\n",
      "|label  |features                                                                                                       |\n",
      "+-------+---------------------------------------------------------------------------------------------------------------+\n",
      "|15000.0|[3.0,43.0,1.0,1.0,0.0,0.0,0.0,2.0,0.0,1.0,245.0,0.0,1.0,1.0,1.0,0.0,1.0,1.0,0.0,1.0,1.0,1.0,1.0,0.0,0.0]       |\n",
      "|15000.0|(25,[0,1,2,3,7,9,12,13,14,16,17,20,21,22],[2.0,42.0,1.0,1.0,2.0,1.0,1.0,1.0,1.0,1.0,1.0,1.0,1.0,1.0])          |\n",
      "|20000.0|(25,[0,1,2,3,7,9,12,13,14,17,20,21,22],[1.0,41.0,1.0,1.0,2.0,1.0,1.0,1.0,1.0,1.0,1.0,1.0,1.0])                 |\n",
      "|20000.0|(25,[0,1,2,3,7,10,12,13,14,15,16,17,20,21,22],[3.0,43.0,1.0,1.0,2.0,285.0,1.0,1.0,1.0,1.0,1.0,1.0,1.0,1.0,1.0])|\n",
      "|15000.0|[2.0,43.0,1.0,1.0,0.0,0.0,0.0,2.0,0.0,1.0,245.0,0.0,1.0,1.0,1.0,0.0,1.0,1.0,0.0,1.0,1.0,1.0,1.0,0.0,0.0]       |\n",
      "|20000.0|(25,[0,1,2,3,7,10,12,13,14,15,16,17,20,21,22],[3.0,43.0,1.0,1.0,2.0,285.0,1.0,1.0,1.0,1.0,1.0,1.0,1.0,1.0,1.0])|\n",
      "|15000.0|(25,[0,1,2,3,7,9,10,12,13,14,16,17,20,21,22],[3.0,43.0,1.0,1.0,2.0,1.0,250.0,1.0,1.0,1.0,1.0,1.0,1.0,1.0,1.0]) |\n",
      "|15000.0|(25,[0,1,2,3,7,9,10,12,13,14,16,20,21,22],[3.0,43.0,1.0,1.0,2.0,1.0,245.0,1.0,1.0,1.0,1.0,1.0,1.0,1.0])        |\n",
      "|15000.0|(25,[0,1,2,3,7,9,10,12,13,14,16,17,20,21,22],[3.0,43.0,1.0,1.0,2.0,1.0,245.0,1.0,1.0,1.0,1.0,1.0,1.0,1.0,1.0]) |\n",
      "|17999.0|(25,[0,1,2,3,7,9,10,12,13,14,16,17,20,21,22],[4.0,43.0,1.0,1.0,2.0,1.0,240.0,1.0,1.0,1.0,1.0,1.0,1.0,1.0,1.0]) |\n",
      "|15000.0|(25,[1,2,3,7,9,12,22],[60.0,1.0,1.0,2.0,1.0,1.0,1.0])                                                          |\n",
      "|19999.0|(25,[0,1,2,3,7,9,10,12,13,14,17,20,21,22],[1.0,43.0,1.0,1.0,2.0,1.0,240.0,1.0,1.0,1.0,1.0,1.0,1.0,1.0])        |\n",
      "|19999.0|(25,[1,2,3,7,10,12,13,14,16,17,20,21,22],[43.0,1.0,1.0,2.0,245.0,1.0,1.0,1.0,1.0,1.0,1.0,1.0,1.0])             |\n",
      "|25000.0|[2.0,43.0,1.0,1.0,0.0,0.0,0.0,2.0,0.0,2.0,290.0,0.0,1.0,1.0,1.0,1.0,1.0,1.0,0.0,1.0,1.0,1.0,1.0,0.0,0.0]       |\n",
      "|29999.0|(25,[0,1,2,3,7,10,12,13,14,16,17,20,22],[3.0,43.0,1.0,1.0,2.0,285.0,1.0,1.0,1.0,1.0,1.0,1.0,1.0])              |\n",
      "|30000.0|[4.0,55.0,2.0,1.0,0.0,0.0,0.0,2.0,1.0,1.0,0.0,0.0,1.0,1.0,1.0,1.0,1.0,1.0,1.0,1.0,1.0,1.0,1.0,0.0,0.0]         |\n",
      "|30000.0|(25,[1,2,3,7,9,12,13,15,20,21,22],[45.0,1.0,1.0,2.0,1.0,1.0,1.0,1.0,1.0,1.0,1.0])                              |\n",
      "|25000.0|(25,[0,1,2,3,7,10,12,14,16,17,20,22],[5.0,42.0,1.0,1.0,2.0,280.0,1.0,1.0,1.0,1.0,1.0,1.0])                     |\n",
      "|27999.0|(25,[0,1,2,3,7,9,10,12,13,14,16,17,20,21,22],[1.0,43.0,1.0,1.0,2.0,1.0,280.0,1.0,1.0,1.0,1.0,1.0,1.0,1.0,1.0]) |\n",
      "|26000.0|[3.0,55.0,1.0,0.0,0.0,1.0,0.0,2.0,1.0,1.0,0.0,0.0,1.0,1.0,1.0,1.0,1.0,1.0,1.0,1.0,1.0,1.0,1.0,0.0,0.0]         |\n",
      "+-------+---------------------------------------------------------------------------------------------------------------+\n",
      "only showing top 20 rows\n",
      "\n"
     ]
    }
   ],
   "source": [
    "df_final.show(truncate=False)"
   ]
  },
  {
   "attachments": {},
   "cell_type": "markdown",
   "metadata": {},
   "source": [
    "#### Criação e avaliação de modelos"
   ]
  },
  {
   "cell_type": "code",
   "execution_count": null,
   "metadata": {},
   "outputs": [],
   "source": []
  }
 ],
 "metadata": {
  "kernelspec": {
   "display_name": "Python 3.10.6 ('.venv': venv)",
   "language": "python",
   "name": "python3"
  },
  "language_info": {
   "codemirror_mode": {
    "name": "ipython",
    "version": 3
   },
   "file_extension": ".py",
   "mimetype": "text/x-python",
   "name": "python",
   "nbconvert_exporter": "python",
   "pygments_lexer": "ipython3",
   "version": "3.10.7"
  },
  "orig_nbformat": 4,
  "vscode": {
   "interpreter": {
    "hash": "23b8461584f00431a2a8cf1d1f30f1155c0d1760103e4a24546e7884c2038306"
   }
  }
 },
 "nbformat": 4,
 "nbformat_minor": 2
}
